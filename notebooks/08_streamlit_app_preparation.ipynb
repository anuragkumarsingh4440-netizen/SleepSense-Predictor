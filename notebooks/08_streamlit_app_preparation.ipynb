{
 "cells": [
  {
   "cell_type": "markdown",
   "id": "b0fcb809",
   "metadata": {},
   "source": [
    "# 08 - Streamlit App Preparation\n",
    "\n",
    "I prepare the trained model and helper functions for building the SleepSense Streamlit app.  \n",
    "This notebook lets me test sample predictions and confirm everything works smoothly before deployment.\n"
   ]
  },
  {
   "cell_type": "code",
   "execution_count": 22,
   "id": "9f64fb74",
   "metadata": {},
   "outputs": [
    {
     "name": "stdout",
     "output_type": "stream",
     "text": [
      "imports ready and folder structure confirmed\n"
     ]
    }
   ],
   "source": [
    "# I import required libraries and set file paths\n",
    "import os, joblib\n",
    "import pandas as pd\n",
    "import numpy as np\n",
    "\n",
    "RIDGE_MODEL = \"../models/ridge_model.pkl\"\n",
    "FEATURES_PATH = \"../data/processed/sleepsense_features.csv\"\n",
    "os.makedirs(\"../app\", exist_ok=True)\n",
    "\n",
    "print(\"imports ready and folder structure confirmed\")\n"
   ]
  },
  {
   "cell_type": "markdown",
   "id": "5b828892",
   "metadata": {},
   "source": [
    "#### ***Inference: I make sure my environment and paths are set correctly.***"
   ]
  },
  {
   "cell_type": "code",
   "execution_count": 23,
   "id": "ae7da5dd",
   "metadata": {},
   "outputs": [
    {
     "name": "stdout",
     "output_type": "stream",
     "text": [
      "model and dataset loaded successfully\n",
      "dataset shape: (12000, 45)\n"
     ]
    }
   ],
   "source": [
    "# I load my final Ridge Regression model and the processed dataset\n",
    "model = joblib.load(RIDGE_MODEL)\n",
    "df = pd.read_csv(FEATURES_PATH)\n",
    "\n",
    "print(\"model and dataset loaded successfully\")\n",
    "print(\"dataset shape:\", df.shape)\n"
   ]
  },
  {
   "cell_type": "markdown",
   "id": "29767332",
   "metadata": {},
   "source": [
    "#### ***Inference: Both model and dataset are ready for testing.***"
   ]
  },
  {
   "cell_type": "markdown",
   "id": "aba1ab47",
   "metadata": {},
   "source": [
    "## ***Extract features used in model***"
   ]
  },
  {
   "cell_type": "code",
   "execution_count": 24,
   "id": "ce4fea20",
   "metadata": {},
   "outputs": [
    {
     "name": "stdout",
     "output_type": "stream",
     "text": [
      "features used in app prediction: ['sleep_deficit', 'digital_fatigue', 'env_stress', 'lifestyle_balance', 'late_snack_effect', 'fatigue_env_interaction', 'is_metro', 'avg_sleep_hours', 'screen_time_hours', 'stress_level', 'physical_activity_min', 'age', 'family_size']\n"
     ]
    }
   ],
   "source": [
    "# I identify which features the Ridge model was trained on\n",
    "feature_cols = [\n",
    "    'sleep_deficit','digital_fatigue','env_stress','lifestyle_balance',\n",
    "    'late_snack_effect','fatigue_env_interaction','is_metro',\n",
    "    'avg_sleep_hours','screen_time_hours','stress_level',\n",
    "    'physical_activity_min','age','family_size'\n",
    "]\n",
    "\n",
    "feature_cols = [f for f in feature_cols if f in df.columns]\n",
    "print(\"features used in app prediction:\", feature_cols)\n"
   ]
  },
  {
   "cell_type": "markdown",
   "id": "b562e1bd",
   "metadata": {},
   "source": [
    "#### ***Inference: These are the exact columns my app will need for user input.***"
   ]
  },
  {
   "cell_type": "markdown",
   "id": "b3d8779b",
   "metadata": {},
   "source": [
    "## ***Creating helper function for prediction***"
   ]
  },
  {
   "cell_type": "code",
   "execution_count": 25,
   "id": "2a89f6b5",
   "metadata": {},
   "outputs": [],
   "source": [
    "# I define a function that accepts a dictionary of inputs and returns predicted sleep quality\n",
    "def predict_sleep_quality(input_data: dict):\n",
    "    \"\"\"\n",
    "    I take input_data (a dictionary), convert it to a DataFrame,\n",
    "    ensure all required columns exist, and return predicted sleep quality score.\n",
    "    \"\"\"\n",
    "    # make dataframe from single record\n",
    "    x_input = pd.DataFrame([input_data])\n",
    "    \n",
    "    # add any missing columns with 0 (in case city or category not provided)\n",
    "    for col in feature_cols:\n",
    "        if col not in x_input.columns:\n",
    "            x_input[col] = 0\n",
    "    \n",
    "    # reorder columns to match training\n",
    "    x_input = x_input[feature_cols]\n",
    "    \n",
    "    # predict sleep quality\n",
    "    prediction = model.predict(x_input)[0]\n",
    "    return round(prediction, 2)\n"
   ]
  },
  {
   "cell_type": "markdown",
   "id": "4829ca62",
   "metadata": {},
   "source": [
    "### ***Comment:***\n",
    "* ***This function is what the Streamlit app will use for real-time prediction.***\n",
    "\n",
    "* ***Inference: I can now pass user-like data and instantly get predicted sleep quality.***"
   ]
  },
  {
   "cell_type": "markdown",
   "id": "bb1ca8ef",
   "metadata": {},
   "source": [
    "## ***Test sample prediction (example)***"
   ]
  },
  {
   "cell_type": "code",
   "execution_count": 26,
   "id": "57a317f0",
   "metadata": {},
   "outputs": [
    {
     "name": "stdout",
     "output_type": "stream",
     "text": [
      "Predicted Sleep Quality Score: 15.67\n"
     ]
    }
   ],
   "source": [
    "# I test the model with a custom example input\n",
    "sample_input = {\n",
    "    \"age\": 28,\n",
    "    \"family_size\": 4,\n",
    "    \"work_hours\": 9,\n",
    "    \"avg_sleep_hours\": 7,\n",
    "    \"screen_time_hours\": 5,\n",
    "    \"tea_cups\": 2,\n",
    "    \"coffee_cups\": 1,\n",
    "    \"late_snack\": 1,\n",
    "    \"spice_intake\": 2,\n",
    "    \"religious_freq\": 3,\n",
    "    \"festival_freq\": 1,\n",
    "    \"physical_activity_min\": 40,\n",
    "    \"bedtime_variability\": 2,\n",
    "    \"stress_level\": 5,\n",
    "    \"city_noise_dB\": 60,\n",
    "    \"light_pollution_index\": 70,\n",
    "    \"air_quality_index\": 90,\n",
    "    \"sleep_deficit\": -0.5,\n",
    "    \"digital_fatigue\": 0.8,\n",
    "    \"env_stress\": 0.7,\n",
    "    \"lifestyle_balance\": -0.2,\n",
    "    \"late_snack_effect\": 0.3,\n",
    "    \"fatigue_env_interaction\": 0.5,\n",
    "    \"is_metro\": 1\n",
    "}\n",
    "\n",
    "pred_value = predict_sleep_quality(sample_input)\n",
    "print(\"Predicted Sleep Quality Score:\", pred_value)\n"
   ]
  },
  {
   "cell_type": "markdown",
   "id": "5e040860",
   "metadata": {},
   "source": [
    "#### ***Inference: I test one full data record and confirm my function works as expected.***"
   ]
  },
  {
   "cell_type": "markdown",
   "id": "071387cf",
   "metadata": {},
   "source": [
    "## ***Create helper for clean prediction display***"
   ]
  },
  {
   "cell_type": "markdown",
   "id": "0d7ae21d",
   "metadata": {},
   "source": [
    "#### ***Inference: My app will use this to show friendly text instead of just numbers.***"
   ]
  },
  {
   "cell_type": "markdown",
   "id": "5a0a7f60",
   "metadata": {},
   "source": [
    "## ***Saving helper functions for Streamlit use***"
   ]
  },
  {
   "cell_type": "code",
   "execution_count": 29,
   "id": "f5aa3da3",
   "metadata": {},
   "outputs": [
    {
     "name": "stdout",
     "output_type": "stream",
     "text": [
      "✅ Model path resolved to: c:\\Users\\ASUS\\Desktop\\(SUPERVISED-1)ML_\\project\\Sleep Sense Predictor\\models\\ridge_model.pkl\n",
      "✅ Model loaded successfully!\n"
     ]
    }
   ],
   "source": [
    "# file: app/predict_helper.py\n",
    "# encoding: utf-8\n",
    "\"\"\"\n",
    "SleepSense helper module:\n",
    "- predict_sleep_quality(input_dict) -> float score (0-100)\n",
    "- display_prediction(pred_value, language='English', verbose=False) -> message (localized)\n",
    "\n",
    "Save this file as app/predict_helper.py (UTF-8).\n",
    "\"\"\"\n",
    "\n",
    "import os\n",
    "from pathlib import Path\n",
    "import pandas as pd\n",
    "import joblib\n",
    "\n",
    "# ✅ FIXED MODEL PATH HANDLING — works in both Notebook and Streamlit\n",
    "try:\n",
    "    # if running as script or in Streamlit, __file__ exists\n",
    "    current_dir = Path(__file__).resolve().parent\n",
    "except NameError:\n",
    "    # if running in Jupyter / interactive shell, fallback to current working directory\n",
    "    current_dir = Path(os.getcwd())\n",
    "\n",
    "# Define model path safely\n",
    "MODEL_PATH = current_dir.parent / \"models\" / \"ridge_model.pkl\"\n",
    "\n",
    "# print info (optional for debug)\n",
    "print(f\"✅ Model path resolved to: {MODEL_PATH}\")\n",
    "\n",
    "# --- Load the model safely ---\n",
    "if MODEL_PATH.exists():\n",
    "    model = joblib.load(MODEL_PATH)\n",
    "    print(\"✅ Model loaded successfully!\")\n",
    "else:\n",
    "    model = None\n",
    "    print(\"⚠️ Model file not found — please ensure ridge_model.pkl exists in /models/\")\n",
    "\n",
    "\n",
    "def predict_sleep_quality(input_data: dict) -> float:\n",
    "    \"\"\"\n",
    "    Convert input dict to DataFrame, ensure required columns, predict with the loaded model,\n",
    "    and return a rounded float score (0-100).\n",
    "    - input_data: dict with any subset of features. Missing features are filled with 0.\n",
    "    \"\"\"\n",
    "    _ensure_model()\n",
    "\n",
    "    # create single-row dataframe\n",
    "    x = pd.DataFrame([input_data])\n",
    "\n",
    "    # ensure all feature columns exist\n",
    "    for col in FEATURE_COLS:\n",
    "        if col not in x.columns:\n",
    "            x[col] = 0\n",
    "\n",
    "    # reorder columns to match model\n",
    "    x = x[FEATURE_COLS]\n",
    "\n",
    "    # some columns expected as numeric; try safe conversion\n",
    "    x = x.apply(pd.to_numeric, errors='coerce').fillna(0)\n",
    "\n",
    "    # prediction\n",
    "    pred = _model.predict(x)[0]\n",
    "\n",
    "    # constrain to 0-100 and round\n",
    "    pred = float(pred)\n",
    "    pred = max(0.0, min(100.0, pred))\n",
    "    return round(pred, 2)\n",
    "\n",
    "\n",
    "def display_prediction(pred_value: float, language: str = 'English', verbose: bool = False) -> str:\n",
    "    \"\"\"\n",
    "    Return multilingual, human-friendly sleep interpretation for pred_value (0-100).\n",
    "    - language: full language name string (e.g., 'Hindi', 'Tamil', 'Bengali', 'English', etc.)\n",
    "    - verbose: if True, prints internal debug lines (useful during development)\n",
    "    \"\"\"\n",
    "\n",
    "    # small safety convert\n",
    "    try:\n",
    "        score = float(pred_value)\n",
    "    except Exception:\n",
    "        score = -9999.0\n",
    "\n",
    "    if verbose:\n",
    "        print(f\"🧮 Predicted Sleep Quality Score: {score}\")\n",
    "        print(f\"🌐 Language requested: {language}\")\n",
    "\n",
    "    # --- translations: full-language names (expandable) ---\n",
    "    translations = {\n",
    "        \"English\": {\"excellent\": \"Excellent Sleep Quality\", \"poor\": \"Poor Sleep Quality\",\n",
    "                    \"critical\": \"Critical Sleep Condition\", \"rest\": \"Take proper rest and reduce stress.\"},\n",
    "        \"Hindi\": {\"excellent\": \"उत्कृष्ट नींद गुणवत्ता\", \"poor\": \"कमज़ोर नींद गुणवत्ता\",\n",
    "                  \"critical\": \"गंभीर नींद स्थिति\", \"rest\": \"अच्छी नींद लें और तनाव कम करें।\"},\n",
    "        \"Bengali\": {\"excellent\": \"চমৎকার ঘুমের মান\", \"poor\": \"দুর্বল ঘুমের মান\",\n",
    "                    \"critical\": \"গুরুতর ঘুমের অবস্থা\", \"rest\": \"বিশ্রাম নিন এবং চাপ কমান।\"},\n",
    "        \"Tamil\": {\"excellent\": \"சிறந்த உறக்கத் தரம்\", \"poor\": \"மோசமான உறக்கத் தரம்\",\n",
    "                  \"critical\": \"கடுமையான உறக்க நிலை\", \"rest\": \"நன்றாக உறங்குங்கள் மற்றும் மனஅழுத்தத்தை குறையுங்கள்.\"},\n",
    "        \"Telugu\": {\"excellent\": \"అద్భుతమైన నిద్ర నాణ్యత\", \"poor\": \"పేద నిద్ర నాణ్యత\",\n",
    "                   \"critical\": \"తీవ్రమైన నిద్ర స్థితి\", \"rest\": \"సరైన విశ్రాంతి తీసుకోండి మరియు ఒత్తిడిని తగ్గించండి.\"},\n",
    "        \"Kannada\": {\"excellent\": \"ಅತ್ಯುತ್ತಮ ನಿದ್ರೆ ಗುಣಮಟ್ಟ\", \"poor\": \"ಕೆಟ್ಟ ನಿದ್ರೆ ಗುಣಮಟ್ಟ\",\n",
    "                    \"critical\": \"ಗಂಭೀರ ನಿದ್ರೆ ಸ್ಥಿತಿ\", \"rest\": \"ಒಳ್ಳೆಯ ನಿದ್ರೆ ಮಾಡಿ ಮತ್ತು ಒತ್ತಡವನ್ನು ಕಡಿಮೆ ಮಾಡಿ.\"},\n",
    "        \"Malayalam\": {\"excellent\": \"മികച്ച ഉറക്ക ഗുണമേന്മ\", \"poor\": \"ദുര്‍ബലമായ ഉറക്ക ഗുണമേന്മ\",\n",
    "                      \"critical\": \"ഗൗരവമുള്ള ഉറക്ക അവസ്ഥ\", \"rest\": \"ശ്രദ്ധയോടെ വിശ്രമിക്കുകയും സമ്മർദ്ദം കുറയ്ക്കുകയും ചെയ്യുക.\"},\n",
    "        \"Marathi\": {\"excellent\": \"उत्कृष्ट झोप गुणवत्ता\", \"poor\": \"कमी झोप गुणवत्ता\",\n",
    "                    \"critical\": \"गंभीर झोप स्थिती\", \"rest\": \"चांगली झोप घ्या आणि तणाव कमी करा.\"},\n",
    "        \"Punjabi\": {\"excellent\": \"ਉਤਕ੍ਰਿਸ਼ਟ ਨੀਂਦ ਗੁਣਵੱਤਾ\", \"poor\": \"ਖਰਾਬ ਨੀਂਦ ਗੁਣਵੱਤਾ\",\n",
    "                    \"critical\": \"ਗੰਭੀਰ ਨੀਂਦ ਦੀ ਸਥਿਤੀ\", \"rest\": \"ਚੰਗੀ ਨੀਂਦ ਕਰੋ ਅਤੇ ਤਣਾਅ ਘਟਾਓ।\"},\n",
    "        \"Gujarati\": {\"excellent\": \"ઉત્કૃષ્ટ નિંદ્રાની ગુણવત્તા\", \"poor\": \"નબળી નિંદ્રાની ગુણવત્તા\",\n",
    "                     \"critical\": \"ગંભીર નિંદ્રા સ્થિતિ\", \"rest\": \"સારી ઊંઘ લો અને તણાવ ઘટાડો.\"},\n",
    "        \"Odia\": {\"excellent\": \"ଉତ୍କୃଷ୍ଟ ନିଦ୍ରା ଗୁଣତା\", \"poor\": \"ଦୁର୍ବଳ ନିଦ୍ରା ଗୁଣତା\",\n",
    "                 \"critical\": \"ଗୁରୁତର ନିଦ୍ରା ଅବସ୍ଥା\", \"rest\": \"ଭଲ ସୁଇପାରିବେ ଏବଂ ଚିନ୍ତା କମାନ୍ତୁ।\"},\n",
    "        \"Assamese\": {\"excellent\": \"উত্তম ঘুমৰ গুণমান\", \"poor\": \"দুৰ্বল ঘুমৰ গুণমান\",\n",
    "                     \"critical\": \"গভীৰ ঘুমৰ অৱস্থা\", \"rest\": \"ভালকৈ বিশ্রাম লওক আৰু চাপ কমাওক।\"},\n",
    "        \"Nepali\": {\"excellent\": \"उत्कृष्ट निद्रा गुणस्तर\", \"poor\": \"कमजोर निद्रा गुणस्तर\",\n",
    "                   \"critical\": \"गंभीर निद्रा स्थिति\", \"rest\": \"राम्ररी निद्रा लिनुहोस् र तनाव घटाउनुहोस्।\"},\n",
    "        \"Urdu\": {\"excellent\": \"بہترین نیند کا معیار\", \"poor\": \"ناقص نیند کا معیار\",\n",
    "                 \"critical\": \"سنگین نیند کی حالت\", \"rest\": \"اچھی نیند لیں اور دباؤ کم کریں۔\"},\n",
    "        \"Sindhi\": {\"excellent\": \"بهترين ننڊ جو معيار\", \"poor\": \"ڪمزور ننڊ جو معيار\",\n",
    "                   \"critical\": \"سنگين ننڊ حالت\", \"rest\": \"سٺي ننڊ وٺو ۽ دٻاءُ گهٽايو.\"},\n",
    "        \"Dogri\": {\"excellent\": \"उत्तम नींद गुणवत्ता\", \"poor\": \"कमज़ोर नींद गुणवत्ता\",\n",
    "                  \"critical\": \"गंभीर नींद स्थिति\", \"rest\": \"अच्छी नींद लें और तनाव कम करें।\"},\n",
    "        \"Maithili\": {\"excellent\": \"उत्तम नींद गुणवत्ता\", \"poor\": \"कमज़ोर नींद गुणवत्ता\",\n",
    "                     \"critical\": \"गंभीर नींद स्थिति\", \"rest\": \"अच्छे से आराम करें और तनाव घटाएं।\"},\n",
    "        \"Konkani\": {\"excellent\": \"उत्कृष्ट झोप गुणवत्ता\", \"poor\": \"खराब झोप गुणवत्ता\",\n",
    "                    \"critical\": \"गंभीर झोप स्थिती\", \"rest\": \"योग्य विश्रांती घ्या आणि ताण कमी करा.\"},\n",
    "        \"Manipuri\": {\"excellent\": \"ꯑꯦꯠꯇꯥꯝꯁꯤꯡ ꯅꯤꯗꯔꯥ ꯄꯥꯡꯅꯥꯡ\", \"poor\": \"ꯋꯤꯡꯈꯥꯡ ꯅꯤꯗꯔꯥ ꯄꯥꯡꯅꯥꯡ\",\n",
    "                    \"critical\": \"ꯒꯔꯤꯕ ꯅꯤꯗꯔꯥ ꯄꯥꯡꯅꯥꯡ\", \"rest\": \"ꯆꯥꯎꯕ ꯅꯤꯗꯔꯥ ꯄꯥꯡꯅꯥꯡ ꯃꯇꯝꯗꯤ ꯃꯇꯩ ꯍꯣꯡꯅꯥ ꯈꯪꯗꯤ.\"},\n",
    "        \"Sanskrit\": {\"excellent\": \"उत्तमा निद्रा\", \"poor\": \"नीचा निद्रा\",\n",
    "                     \"critical\": \"गंभीर निद्रा\", \"rest\": \"विश्रामं कुरुत व तनावं न्यूनं कुरुत।\"},\n",
    "        \"Bodo\": {\"excellent\": \"उत्तम निंदर गुनमान\", \"poor\": \"कमजोर निंदर गुनमान\",\n",
    "                 \"critical\": \"गंभीर निंदर स्थिति\", \"rest\": \"भाल सुइ आ तनाव गोर हो।\"},\n",
    "        \"Bhojpuri\": {\"excellent\": \"बढ़िया नींद गुणवत्ता\", \"poor\": \"खराब नींद गुणवत्ता\",\n",
    "                     \"critical\": \"गंभीर नींद स्थिति\", \"rest\": \"अच्छे से आराम करीं, तनाव आ मोबाइल टाइम घटाईं।\"}\n",
    "    }\n",
    "\n",
    "    # fallback\n",
    "    lang_dict = translations.get(language, translations[\"English\"])\n",
    "\n",
    "    # Choose message based on score (30-level logic)\n",
    "    # messages append localized 'rest' advice from lang_dict\n",
    "    rest_text = lang_dict.get('rest', translations['English']['rest'])\n",
    "\n",
    "    # Note: keep conditions exactly as designed for interpretability\n",
    "    if score >= 99:\n",
    "        msg = f\"💎 {lang_dict['excellent']} ({score}) — Elite sleeper, perfect balance! {rest_text}\"\n",
    "    elif 95 <= score < 99:\n",
    "        msg = f\"🌕 {lang_dict['excellent']} ({score}) — Perfect lifestyle balance. {rest_text}\"\n",
    "    elif 92 <= score < 95:\n",
    "        msg = f\"✨ {lang_dict['excellent']} ({score}) — Near perfect, slight improvement possible. {rest_text}\"\n",
    "    elif 88 <= score < 92:\n",
    "        msg = f\"🌙 {lang_dict['excellent']} ({score}) — Calm routine and minimal stress. {rest_text}\"\n",
    "    elif 85 <= score < 88:\n",
    "        msg = f\"💚 {lang_dict['excellent']} ({score}) — Stable routine with minor fatigue. {rest_text}\"\n",
    "    elif 80 <= score < 85:\n",
    "        msg = f\"🙂 {lang_dict['excellent']} ({score}) — Healthy sleep pattern, keep it up. {rest_text}\"\n",
    "    elif 75 <= score < 80:\n",
    "        msg = f\"😴 {lang_dict['excellent']} ({score}) — Mild irregularity in sleep hours. {rest_text}\"\n",
    "    elif 70 <= score < 75:\n",
    "        msg = f\"🟩 {lang_dict['poor']} ({score}) — Moderate lifestyle balance. {rest_text}\"\n",
    "    elif 66 <= score < 70:\n",
    "        msg = f\"🟢 {lang_dict['poor']} ({score}) — Manageable sleep, occasional stress. {rest_text}\"\n",
    "    elif 63 <= score < 66:\n",
    "        msg = f\"😐 {lang_dict['poor']} ({score}) — Average pattern, needs improvement. {rest_text}\"\n",
    "    elif 60 <= score < 63:\n",
    "        msg = f\"🟡 {lang_dict['poor']} ({score}) — Irregular sleep time, fatigue visible. {rest_text}\"\n",
    "    elif 56 <= score < 60:\n",
    "        msg = f\"🟠 {lang_dict['poor']} ({score}) — Body fatigue and rest gap detected. {rest_text}\"\n",
    "    elif 52 <= score < 56:\n",
    "        msg = f\"⚠️ {lang_dict['poor']} ({score}) — Minor imbalance due to stress. {rest_text}\"\n",
    "    elif 48 <= score < 52:\n",
    "        msg = f\"🔴 {lang_dict['poor']} ({score}) — Regular disturbance noticed. {rest_text}\"\n",
    "    elif 45 <= score < 48:\n",
    "        msg = f\"🚧 {lang_dict['poor']} ({score}) — Inconsistent sleep or overwork. {rest_text}\"\n",
    "    elif 42 <= score < 45:\n",
    "        msg = f\"☁️ {lang_dict['poor']} ({score}) — Urban fatigue and noise impact. {rest_text}\"\n",
    "    elif 38 <= score < 42:\n",
    "        msg = f\"💤 {lang_dict['poor']} ({score}) — Restless pattern, low deep sleep. {rest_text}\"\n",
    "    elif 35 <= score < 38:\n",
    "        msg = f\"⚙️ {lang_dict['poor']} ({score}) — Late-night workload affecting rest. {rest_text}\"\n",
    "    elif 30 <= score < 35:\n",
    "        msg = f\"🔥 {lang_dict['poor']} ({score}) — Stress dominated routine. {rest_text}\"\n",
    "    elif 28 <= score < 30:\n",
    "        msg = f\"🧠 {lang_dict['poor']} ({score}) — Overthinking before bed. {rest_text}\"\n",
    "    elif 25 <= score < 28:\n",
    "        msg = f\"📱 {lang_dict['poor']} ({score}) — Excessive screen use before sleep. {rest_text}\"\n",
    "    elif 22 <= score < 25:\n",
    "        msg = f\"💼 {lang_dict['poor']} ({score}) — Overwork causing low rest. {rest_text}\"\n",
    "    elif 18 <= score < 22:\n",
    "        msg = f\"🥱 {lang_dict['poor']} ({score}) — Fatigue and incomplete rest. {rest_text}\"\n",
    "    elif 15 <= score < 18:\n",
    "        msg = f\"🚨 {lang_dict['critical']} ({score}) — Exhaustion and anxiety possible. {rest_text}\"\n",
    "    elif 12 <= score < 15:\n",
    "        msg = f\"💀 {lang_dict['critical']} ({score}) — Severe sleep deprivation stage. {rest_text}\"\n",
    "    elif 8 <= score < 12:\n",
    "        msg = f\"🩸 {lang_dict['critical']} ({score}) — Signs of chronic insomnia. {rest_text}\"\n",
    "    elif 5 <= score < 8:\n",
    "        msg = f\"💤 {lang_dict['critical']} ({score}) — Almost no restful sleep. {rest_text}\"\n",
    "    elif 2 <= score < 5:\n",
    "        msg = f\"🕯️ {lang_dict['critical']} ({score}) — Body energy collapse detected. {rest_text}\"\n",
    "    elif 0 < score < 2:\n",
    "        msg = f\"⚰️ {lang_dict['critical']} ({score}) — Extreme lack of sleep. {rest_text}\"\n",
    "    else:\n",
    "        msg = f\"❌ Invalid Sleep Score ({pred_value}) — Please check input.\"\n",
    "\n",
    "    if verbose:\n",
    "        print(\"→ Final message:\", msg)\n",
    "\n",
    "    return msg\n"
   ]
  },
  {
   "cell_type": "markdown",
   "id": "1d9a658f",
   "metadata": {},
   "source": [
    "## ***Inference: Now my Streamlit app can import this helper file directly for live predictions.***"
   ]
  },
  {
   "cell_type": "markdown",
   "id": "63b590a6",
   "metadata": {},
   "source": [
    "## ***Summary***"
   ]
  },
  {
   "cell_type": "markdown",
   "id": "df7ea395",
   "metadata": {},
   "source": [
    "- The Ridge model is loaded and working perfectly for prediction.  \n",
    "- I created helper functions to handle input and display results clearly.  \n",
    "- The same functions are saved in `predict_helper.py` for the Streamlit app.  \n",
    "- Everything is ready to move into **`streamlit_app.py`** to build the interactive user interface.\n"
   ]
  }
 ],
 "metadata": {
  "kernelspec": {
   "display_name": "Python 3",
   "language": "python",
   "name": "python3"
  },
  "language_info": {
   "codemirror_mode": {
    "name": "ipython",
    "version": 3
   },
   "file_extension": ".py",
   "mimetype": "text/x-python",
   "name": "python",
   "nbconvert_exporter": "python",
   "pygments_lexer": "ipython3",
   "version": "3.13.5"
  }
 },
 "nbformat": 4,
 "nbformat_minor": 5
}
