{
 "cells": [
  {
   "cell_type": "markdown",
   "id": "078429b0",
   "metadata": {},
   "source": [
    "# 04 - Model Building\n",
    "\n",
    "Goal:\n",
    "- Load engineered features\n",
    "- Split data into train and test sets\n",
    "- Train a baseline Linear Regression model using `sklearn`\n",
    "- Evaluate with RMSE, MSE, R² and Adjusted R²\n",
    "- Save the trained model and a small metrics file for later use\n"
   ]
  },
  {
   "cell_type": "markdown",
   "id": "a2a57768",
   "metadata": {},
   "source": [
    "Inference: This notebook builds the first working regression model for SleepSense."
   ]
  },
  {
   "cell_type": "code",
   "execution_count": 1,
   "id": "ec19e280",
   "metadata": {},
   "outputs": [
    {
     "name": "stdout",
     "output_type": "stream",
     "text": [
      "imports done and paths set\n"
     ]
    }
   ],
   "source": [
    "# I import necessary libraries and set file paths\n",
    "import os\n",
    "import pandas as pd\n",
    "import numpy as np\n",
    "from sklearn.model_selection import train_test_split\n",
    "from sklearn.linear_model import LinearRegression\n",
    "from sklearn.metrics import mean_squared_error, r2_score\n",
    "import joblib\n",
    "import json\n",
    "\n",
    "FEATURES_PATH = \"../data/processed/sleepsense_features.csv\"\n",
    "MODEL_PATH = \"../models/linear_regression_model.pkl\"\n",
    "METRICS_PATH = \"../models/model_metrics.json\"\n",
    "\n",
    "os.makedirs(\"../models\", exist_ok=True)\n",
    "print(\"imports done and paths set\")\n"
   ]
  },
  {
   "cell_type": "markdown",
   "id": "bb6e5250",
   "metadata": {},
   "source": [
    "Inference: All tools and file locations are ready."
   ]
  },
  {
   "cell_type": "code",
   "execution_count": 2,
   "id": "b51ff194",
   "metadata": {},
   "outputs": [
    {
     "name": "stdout",
     "output_type": "stream",
     "text": [
      "loaded shape: (12000, 45)\n"
     ]
    },
    {
     "data": {
      "text/html": [
       "<div>\n",
       "<style scoped>\n",
       "    .dataframe tbody tr th:only-of-type {\n",
       "        vertical-align: middle;\n",
       "    }\n",
       "\n",
       "    .dataframe tbody tr th {\n",
       "        vertical-align: top;\n",
       "    }\n",
       "\n",
       "    .dataframe thead th {\n",
       "        text-align: right;\n",
       "    }\n",
       "</style>\n",
       "<table border=\"1\" class=\"dataframe\">\n",
       "  <thead>\n",
       "    <tr style=\"text-align: right;\">\n",
       "      <th></th>\n",
       "      <th>age</th>\n",
       "      <th>family_size</th>\n",
       "      <th>work_hours</th>\n",
       "      <th>avg_sleep_hours</th>\n",
       "      <th>screen_time_hours</th>\n",
       "      <th>tea_cups</th>\n",
       "      <th>coffee_cups</th>\n",
       "      <th>late_snack</th>\n",
       "      <th>spice_intake</th>\n",
       "      <th>religious_freq</th>\n",
       "      <th>...</th>\n",
       "      <th>city_Surat</th>\n",
       "      <th>city_Thane</th>\n",
       "      <th>city_Vasai-Virar</th>\n",
       "      <th>sleep_deficit</th>\n",
       "      <th>digital_fatigue</th>\n",
       "      <th>lifestyle_balance</th>\n",
       "      <th>late_snack_effect</th>\n",
       "      <th>env_stress</th>\n",
       "      <th>fatigue_env_interaction</th>\n",
       "      <th>is_metro</th>\n",
       "    </tr>\n",
       "  </thead>\n",
       "  <tbody>\n",
       "    <tr>\n",
       "      <th>0</th>\n",
       "      <td>-0.554240</td>\n",
       "      <td>0.269326</td>\n",
       "      <td>1.398265</td>\n",
       "      <td>-1.712387</td>\n",
       "      <td>1.328569</td>\n",
       "      <td>0.596543</td>\n",
       "      <td>0.292850</td>\n",
       "      <td>-0.815221</td>\n",
       "      <td>-0.294897</td>\n",
       "      <td>0.228669</td>\n",
       "      <td>...</td>\n",
       "      <td>False</td>\n",
       "      <td>False</td>\n",
       "      <td>False</td>\n",
       "      <td>1.712387</td>\n",
       "      <td>0.759338</td>\n",
       "      <td>-2.179185</td>\n",
       "      <td>0.240407</td>\n",
       "      <td>0.553976</td>\n",
       "      <td>0.420655</td>\n",
       "      <td>0</td>\n",
       "    </tr>\n",
       "    <tr>\n",
       "      <th>1</th>\n",
       "      <td>1.989610</td>\n",
       "      <td>-1.347035</td>\n",
       "      <td>1.843044</td>\n",
       "      <td>-0.795982</td>\n",
       "      <td>0.373011</td>\n",
       "      <td>-1.371705</td>\n",
       "      <td>1.362622</td>\n",
       "      <td>-0.815221</td>\n",
       "      <td>-0.294897</td>\n",
       "      <td>-0.947260</td>\n",
       "      <td>...</td>\n",
       "      <td>False</td>\n",
       "      <td>False</td>\n",
       "      <td>False</td>\n",
       "      <td>0.795982</td>\n",
       "      <td>-0.218681</td>\n",
       "      <td>-1.224279</td>\n",
       "      <td>0.240407</td>\n",
       "      <td>0.257733</td>\n",
       "      <td>-0.056361</td>\n",
       "      <td>1</td>\n",
       "    </tr>\n",
       "    <tr>\n",
       "      <th>2</th>\n",
       "      <td>-1.509525</td>\n",
       "      <td>0.269326</td>\n",
       "      <td>-0.253773</td>\n",
       "      <td>-0.502377</td>\n",
       "      <td>-1.089577</td>\n",
       "      <td>-1.371705</td>\n",
       "      <td>-0.776922</td>\n",
       "      <td>1.226661</td>\n",
       "      <td>0.651044</td>\n",
       "      <td>0.816634</td>\n",
       "      <td>...</td>\n",
       "      <td>False</td>\n",
       "      <td>False</td>\n",
       "      <td>False</td>\n",
       "      <td>0.502377</td>\n",
       "      <td>-0.801945</td>\n",
       "      <td>2.474885</td>\n",
       "      <td>0.798610</td>\n",
       "      <td>-0.661131</td>\n",
       "      <td>0.530191</td>\n",
       "      <td>0</td>\n",
       "    </tr>\n",
       "  </tbody>\n",
       "</table>\n",
       "<p>3 rows × 45 columns</p>\n",
       "</div>"
      ],
      "text/plain": [
       "        age  family_size  work_hours  avg_sleep_hours  screen_time_hours  \\\n",
       "0 -0.554240     0.269326    1.398265        -1.712387           1.328569   \n",
       "1  1.989610    -1.347035    1.843044        -0.795982           0.373011   \n",
       "2 -1.509525     0.269326   -0.253773        -0.502377          -1.089577   \n",
       "\n",
       "   tea_cups  coffee_cups  late_snack  spice_intake  religious_freq  ...  \\\n",
       "0  0.596543     0.292850   -0.815221     -0.294897        0.228669  ...   \n",
       "1 -1.371705     1.362622   -0.815221     -0.294897       -0.947260  ...   \n",
       "2 -1.371705    -0.776922    1.226661      0.651044        0.816634  ...   \n",
       "\n",
       "   city_Surat  city_Thane  city_Vasai-Virar  sleep_deficit  digital_fatigue  \\\n",
       "0       False       False             False       1.712387         0.759338   \n",
       "1       False       False             False       0.795982        -0.218681   \n",
       "2       False       False             False       0.502377        -0.801945   \n",
       "\n",
       "   lifestyle_balance  late_snack_effect  env_stress  fatigue_env_interaction  \\\n",
       "0          -2.179185           0.240407    0.553976                 0.420655   \n",
       "1          -1.224279           0.240407    0.257733                -0.056361   \n",
       "2           2.474885           0.798610   -0.661131                 0.530191   \n",
       "\n",
       "   is_metro  \n",
       "0         0  \n",
       "1         1  \n",
       "2         0  \n",
       "\n",
       "[3 rows x 45 columns]"
      ]
     },
     "execution_count": 2,
     "metadata": {},
     "output_type": "execute_result"
    }
   ],
   "source": [
    "# I load the features dataset prepared earlier\n",
    "df = pd.read_csv(FEATURES_PATH)\n",
    "print(\"loaded shape:\", df.shape)\n",
    "df.head(3)\n"
   ]
  },
  {
   "cell_type": "markdown",
   "id": "8e636b9a",
   "metadata": {},
   "source": [
    "Inference: Data loaded and visible for feature selection."
   ]
  },
  {
   "cell_type": "markdown",
   "id": "29e6e356",
   "metadata": {},
   "source": [
    "### Choose features and target (simple and explicit)"
   ]
  },
  {
   "cell_type": "code",
   "execution_count": 3,
   "id": "59964808",
   "metadata": {},
   "outputs": [
    {
     "name": "stdout",
     "output_type": "stream",
     "text": [
      "using features: ['sleep_deficit', 'digital_fatigue', 'env_stress', 'lifestyle_balance', 'late_snack_effect', 'fatigue_env_interaction', 'is_metro', 'avg_sleep_hours', 'screen_time_hours', 'stress_level', 'physical_activity_min', 'age', 'family_size']\n",
      "target: sleep_quality_score\n"
     ]
    }
   ],
   "source": [
    "# I explicitly list features to use as predictors (safe, readable)\n",
    "# I keep engineered features and some core numeric predictors\n",
    "possible_features = [\n",
    "    'sleep_deficit','digital_fatigue','env_stress','lifestyle_balance',\n",
    "    'late_snack_effect','fatigue_env_interaction','is_metro',\n",
    "    'avg_sleep_hours','screen_time_hours','stress_level',\n",
    "    'physical_activity_min','age','family_size'\n",
    "]\n",
    "\n",
    "# keep only those that actually exist in df\n",
    "features = [f for f in possible_features if f in df.columns]\n",
    "target = 'sleep_quality_score'\n",
    "\n",
    "print(\"using features:\", features)\n",
    "print(\"target:\", target)\n"
   ]
  },
  {
   "cell_type": "markdown",
   "id": "0299bd12",
   "metadata": {},
   "source": [
    "Inference: I explicitly control which columns feed into the model to avoid surprises."
   ]
  },
  {
   "cell_type": "code",
   "execution_count": 4,
   "id": "a3ff7518",
   "metadata": {},
   "outputs": [
    {
     "name": "stdout",
     "output_type": "stream",
     "text": [
      "X shape: (12000, 13)  y shape: (12000,)\n"
     ]
    }
   ],
   "source": [
    "# I prepare X and y for modeling\n",
    "X = df[features].copy()\n",
    "y = df[target].copy()\n",
    "\n",
    "# Convert boolean columns (if any) to int\n",
    "for c in X.select_dtypes(include=['bool']).columns:\n",
    "    X[c] = X[c].astype(int)\n",
    "\n",
    "print(\"X shape:\", X.shape, \" y shape:\", y.shape)\n"
   ]
  },
  {
   "cell_type": "markdown",
   "id": "93ad3d2d",
   "metadata": {},
   "source": [
    "Inference: Model inputs are numeric-ready."
   ]
  },
  {
   "cell_type": "code",
   "execution_count": 5,
   "id": "d15bdb89",
   "metadata": {},
   "outputs": [
    {
     "name": "stdout",
     "output_type": "stream",
     "text": [
      "train shape: (9600, 13)  test shape: (2400, 13)\n"
     ]
    }
   ],
   "source": [
    "# I split the data into train and test sets (80/20)\n",
    "X_train, X_test, y_train, y_test = train_test_split(\n",
    "    X, y, test_size=0.2, random_state=42\n",
    ")\n",
    "\n",
    "print(\"train shape:\", X_train.shape, \" test shape:\", X_test.shape)\n"
   ]
  },
  {
   "cell_type": "markdown",
   "id": "a64013d9",
   "metadata": {},
   "source": [
    "Inference: Train/test split created to evaluate model generalization."
   ]
  },
  {
   "cell_type": "code",
   "execution_count": 6,
   "id": "d10ff5d9",
   "metadata": {},
   "outputs": [
    {
     "name": "stdout",
     "output_type": "stream",
     "text": [
      "model trained\n"
     ]
    }
   ],
   "source": [
    "# I fit a simple Linear Regression model (OLS) with sklearn\n",
    "model = LinearRegression()\n",
    "model.fit(X_train, y_train)\n",
    "\n",
    "print(\"model trained\")"
   ]
  },
  {
   "cell_type": "markdown",
   "id": "9d38e4eb",
   "metadata": {},
   "source": [
    "Inference: Linear regression model fitted on training data."
   ]
  },
  {
   "cell_type": "code",
   "execution_count": 7,
   "id": "cc65faa2",
   "metadata": {},
   "outputs": [
    {
     "name": "stdout",
     "output_type": "stream",
     "text": [
      "MSE: 40.557\n",
      "RMSE: 6.368\n",
      "R2: 0.4603\n",
      "Adjusted R2: 0.4574\n"
     ]
    }
   ],
   "source": [
    "# Predict on test data\n",
    "preds = model.predict(X_test)\n",
    "\n",
    "# Calculate mean squared error\n",
    "mse = mean_squared_error(y_test, preds)\n",
    "\n",
    "# Root mean squared error\n",
    "rmse = np.sqrt(mse)\n",
    "\n",
    "# R-squared score\n",
    "r2 = r2_score(y_test, preds)\n",
    "\n",
    "# Adjusted R-squared\n",
    "n, p = X_test.shape\n",
    "adjusted_r2 = 1 - (1 - r2) * (n - 1) / (n - p - 1)\n",
    "\n",
    "# Display metrics\n",
    "print(\"MSE:\", round(mse, 3))\n",
    "print(\"RMSE:\", round(rmse, 3))\n",
    "print(\"R2:\", round(r2, 4))\n",
    "print(\"Adjusted R2:\", round(adjusted_r2, 4))\n"
   ]
  },
  {
   "cell_type": "markdown",
   "id": "f0aa23e7",
   "metadata": {},
   "source": [
    "**Inference:**\n",
    "\n",
    "The model performs well for lifestyle prediction:\n",
    "\n",
    "- MSE = 40.56 and RMSE = 6.37 → average error is around ±6 points.\n",
    "- R² = 0.46 → model explains nearly half of the variation in sleep quality.\n",
    "- Adjusted R² = 0.46 → minimal overfitting.\n",
    "\n",
    "This is a realistic baseline for human behavioral data.  \n",
    "Next improvement step will involve adding regularization (Ridge/Lasso) to check if performance or stability increases.\n"
   ]
  },
  {
   "cell_type": "markdown",
   "id": "b479de49",
   "metadata": {},
   "source": [
    "Inference: These metrics show how well the model predicts on unseen data."
   ]
  },
  {
   "cell_type": "code",
   "execution_count": 8,
   "id": "147fc35f",
   "metadata": {},
   "outputs": [
    {
     "name": "stdout",
     "output_type": "stream",
     "text": [
      "model saved to ../models/linear_regression_model.pkl\n",
      "metrics saved to ../models/model_metrics.json\n"
     ]
    }
   ],
   "source": [
    "# I save the trained model and a metrics JSON for later (app/report)\n",
    "joblib.dump(model, MODEL_PATH)\n",
    "metrics = {\n",
    "    \"mse\": float(np.round(mse,4)),\n",
    "    \"rmse\": float(np.round(rmse,4)),\n",
    "    \"r2\": float(np.round(r2,6)),\n",
    "    \"adjusted_r2\": float(np.round(adjusted_r2,6)),\n",
    "    \"n_test\": int(n),\n",
    "    \"n_features\": int(p),\n",
    "    \"features_used\": features\n",
    "}\n",
    "with open(METRICS_PATH, \"w\") as f:\n",
    "    json.dump(metrics, f, indent=2)\n",
    "\n",
    "print(\"model saved to\", MODEL_PATH)\n",
    "print(\"metrics saved to\", METRICS_PATH)\n"
   ]
  },
  {
   "cell_type": "markdown",
   "id": "bec06c26",
   "metadata": {},
   "source": [
    "Inference: Model and metrics are persisted for deployment and reporting."
   ]
  },
  {
   "cell_type": "code",
   "execution_count": 9,
   "id": "06ecd0ec",
   "metadata": {},
   "outputs": [
    {
     "data": {
      "text/html": [
       "<div>\n",
       "<style scoped>\n",
       "    .dataframe tbody tr th:only-of-type {\n",
       "        vertical-align: middle;\n",
       "    }\n",
       "\n",
       "    .dataframe tbody tr th {\n",
       "        vertical-align: top;\n",
       "    }\n",
       "\n",
       "    .dataframe thead th {\n",
       "        text-align: right;\n",
       "    }\n",
       "</style>\n",
       "<table border=\"1\" class=\"dataframe\">\n",
       "  <thead>\n",
       "    <tr style=\"text-align: right;\">\n",
       "      <th></th>\n",
       "      <th>feature</th>\n",
       "      <th>coefficient</th>\n",
       "    </tr>\n",
       "  </thead>\n",
       "  <tbody>\n",
       "    <tr>\n",
       "      <th>0</th>\n",
       "      <td>env_stress</td>\n",
       "      <td>-1.7374</td>\n",
       "    </tr>\n",
       "    <tr>\n",
       "      <th>1</th>\n",
       "      <td>stress_level</td>\n",
       "      <td>-1.5403</td>\n",
       "    </tr>\n",
       "    <tr>\n",
       "      <th>2</th>\n",
       "      <td>sleep_deficit</td>\n",
       "      <td>-1.4255</td>\n",
       "    </tr>\n",
       "    <tr>\n",
       "      <th>3</th>\n",
       "      <td>avg_sleep_hours</td>\n",
       "      <td>1.4255</td>\n",
       "    </tr>\n",
       "    <tr>\n",
       "      <th>4</th>\n",
       "      <td>digital_fatigue</td>\n",
       "      <td>-1.3795</td>\n",
       "    </tr>\n",
       "    <tr>\n",
       "      <th>5</th>\n",
       "      <td>screen_time_hours</td>\n",
       "      <td>-1.2187</td>\n",
       "    </tr>\n",
       "    <tr>\n",
       "      <th>6</th>\n",
       "      <td>is_metro</td>\n",
       "      <td>-1.0176</td>\n",
       "    </tr>\n",
       "    <tr>\n",
       "      <th>7</th>\n",
       "      <td>lifestyle_balance</td>\n",
       "      <td>0.9221</td>\n",
       "    </tr>\n",
       "    <tr>\n",
       "      <th>8</th>\n",
       "      <td>physical_activity_min</td>\n",
       "      <td>-0.6182</td>\n",
       "    </tr>\n",
       "    <tr>\n",
       "      <th>9</th>\n",
       "      <td>family_size</td>\n",
       "      <td>-0.2414</td>\n",
       "    </tr>\n",
       "    <tr>\n",
       "      <th>10</th>\n",
       "      <td>age</td>\n",
       "      <td>-0.2169</td>\n",
       "    </tr>\n",
       "    <tr>\n",
       "      <th>11</th>\n",
       "      <td>fatigue_env_interaction</td>\n",
       "      <td>-0.0902</td>\n",
       "    </tr>\n",
       "    <tr>\n",
       "      <th>12</th>\n",
       "      <td>late_snack_effect</td>\n",
       "      <td>0.0281</td>\n",
       "    </tr>\n",
       "  </tbody>\n",
       "</table>\n",
       "</div>"
      ],
      "text/plain": [
       "                    feature  coefficient\n",
       "0                env_stress      -1.7374\n",
       "1              stress_level      -1.5403\n",
       "2             sleep_deficit      -1.4255\n",
       "3           avg_sleep_hours       1.4255\n",
       "4           digital_fatigue      -1.3795\n",
       "5         screen_time_hours      -1.2187\n",
       "6                  is_metro      -1.0176\n",
       "7         lifestyle_balance       0.9221\n",
       "8     physical_activity_min      -0.6182\n",
       "9               family_size      -0.2414\n",
       "10                      age      -0.2169\n",
       "11  fatigue_env_interaction      -0.0902\n",
       "12        late_snack_effect       0.0281"
      ]
     },
     "execution_count": 9,
     "metadata": {},
     "output_type": "execute_result"
    }
   ],
   "source": [
    "# Create dataframe of feature names and coefficients\n",
    "coef_df = pd.DataFrame({\n",
    "    \"feature\": features,\n",
    "    \"coefficient\": np.round(model.coef_, 4)\n",
    "})\n",
    "\n",
    "# Add absolute values for sorting\n",
    "coef_df['abs_coef'] = coef_df['coefficient'].abs()\n",
    "\n",
    "# Sort by absolute coefficient size\n",
    "coef_df = coef_df.sort_values(by='abs_coef', ascending=False).reset_index(drop=True)\n",
    "\n",
    "# Drop helper column\n",
    "coef_df = coef_df.drop(columns=['abs_coef'])\n",
    "\n",
    "# Display coefficients\n",
    "coef_df\n"
   ]
  },
  {
   "cell_type": "markdown",
   "id": "a0e1a97e",
   "metadata": {},
   "source": [
    "Inference: Coefficients show which features push sleep quality up or down (positive vs negative)."
   ]
  },
  {
   "cell_type": "markdown",
   "id": "f966d7af",
   "metadata": {},
   "source": [
    "## Model Coefficient Insights\n",
    "\n",
    "| Direction | Meaning |\n",
    "|------------|----------|\n",
    "| **Positive Coefficients (+)** | The feature **increases sleep quality** — a higher value of this feature helps. |\n",
    "| **Negative Coefficients (-)** | The feature **reduces sleep quality** — a higher value of this feature hurts. |\n",
    "| **Magnitude (Size)** | The **bigger the absolute value**, the **stronger** its impact (positive or negative). |\n",
    "\n",
    "---\n",
    "\n",
    "### Inferences from Coefficients\n",
    "\n",
    "1. **env_stress (-1.7374)** → Higher environmental stress (noise, light, pollution) → **worse sleep quality**.  \n",
    "   _Reason:_ Large negative coefficient (strong negative impact).\n",
    "\n",
    "2. **stress_level (-1.5403)** → More personal stress → **reduces sleep quality**.  \n",
    "   _Reason:_ Negative sign = inverse relationship.\n",
    "\n",
    "3. **sleep_deficit (-1.4255)** → More sleep deficit → **poorer sleep quality**.  \n",
    "   _Reason:_ Negative and large = strong negative effect.\n",
    "\n",
    "4. **avg_sleep_hours (+1.4255)** → More average sleep → **improves sleep quality**.  \n",
    "   _Reason:_ Positive and large = strong positive impact.\n",
    "\n",
    "5. **digital_fatigue (-1.3795)** → More digital fatigue → **reduces sleep quality**.  \n",
    "   _Reason:_ Negative sign = higher fatigue lowers score.\n",
    "\n",
    "6. **screen_time_hours (-1.2187)** → Longer screen use → **lowers sleep quality**.  \n",
    "   _Reason:_ Negative and moderately large.\n",
    "\n",
    "7. **is_metro (-1.0176)** → Living in metro areas → **reduces sleep quality** (noise, pollution).  \n",
    "   _Reason:_ Negative and significant.\n",
    "\n",
    "8. **lifestyle_balance (+0.9221)** → Balanced life → **improves sleep quality**.  \n",
    "   _Reason:_ Positive = directly helpful.\n",
    "\n",
    "9. **physical_activity_min (-0.6182)** → More activity → slightly **reduces sleep quality**, maybe over-exercise.  \n",
    "   _Reason:_ Negative but smaller in size = weaker impact.\n",
    "\n",
    "10. **family_size (-0.2414)** → Larger family → **slight reduction in sleep quality** (disturbances).  \n",
    "    _Reason:_ Negative, small = minor effect.\n",
    "\n",
    "11. **age (-0.2169)** → Older age → **slightly poorer sleep**.  \n",
    "    _Reason:_ Small negative.\n",
    "\n",
    "12. **fatigue_env_interaction (-0.0902)** → Combined fatigue + environment → **minor negative effect**.  \n",
    "    _Reason:_ Very small coefficient.\n",
    "\n",
    "13. **late_snack_effect (+0.0281)** → Late snack → **negligible positive effect**.  \n",
    "    _Reason:_ Small positive, likely not meaningful.\n",
    "\n",
    "---\n",
    "\n",
    "###  Overall Summary\n",
    "- **Strong negative factors:** Environmental stress, personal stress, sleep deficit, and screen-related fatigue.  \n",
    "- **Strong positive factor:** Average sleep hours and lifestyle balance.  \n",
    "- **Minor or negligible:** Age, family size, and late snack.\n",
    "\n",
    "---\n",
    "\n",
    "###  How Decisions Were Made\n",
    "1. **Sign (±)** → tells direction:  \n",
    "   - `+` means improves sleep quality.  \n",
    "   - `–` means worsens sleep quality.  \n",
    "\n",
    "2. **Magnitude (absolute value)** → tells strength:  \n",
    "   - Large number (|coef| > 1) → strong effect.  \n",
    "   - Medium (|coef| ~0.5–1) → moderate.  \n",
    "   - Small (|coef| < 0.3) → weak or negligible effect.\n"
   ]
  },
  {
   "cell_type": "code",
   "execution_count": 10,
   "id": "2775fb25",
   "metadata": {},
   "outputs": [
    {
     "data": {
      "image/png": "[encoded data removed]",
      "text/plain": [
       "<Figure size 700x400 with 1 Axes>"
      ]
     },
     "metadata": {},
     "output_type": "display_data"
    },
    {
     "name": "stdout",
     "output_type": "stream",
     "text": [
      "residual mean: -0.269248  std: 6.364\n"
     ]
    }
   ],
   "source": [
    "# I check residuals roughly to see if they look centered around zero\n",
    "import matplotlib.pyplot as plt\n",
    "residuals = y_test - preds\n",
    "plt.figure(figsize=(7,4))\n",
    "plt.hist(residuals, bins=40)\n",
    "plt.title(\"Residuals distribution (y_test - preds)\")\n",
    "plt.xlabel(\"Residual\")\n",
    "plt.ylabel(\"Count\")\n",
    "plt.tight_layout()\n",
    "plt.show()\n",
    "\n",
    "print(\"residual mean:\", round(residuals.mean(),6), \" std:\", round(residuals.std(),4))\n"
   ]
  },
  {
   "cell_type": "markdown",
   "id": "6f4c551c",
   "metadata": {},
   "source": [
    "##  What It Means\n",
    "\n",
    "### Residual Mean ≈ 0\n",
    "Residuals = actual − predicted  \n",
    "\n",
    "A mean value close to zero shows that the model isn’t consistently over- or under-predicting.  \n",
    "Here, the mean residual is **−0.26**, which is almost zero — indicating the predictions are fairly unbiased.  \n",
    " No major bias in the model’s output.\n",
    "\n",
    "---\n",
    "\n",
    "### Residual Standard Deviation = 6.36\n",
    "This shows the **average size of prediction errors** — how far off the predictions are from actual sleep quality scores.  \n",
    "\n",
    "Since the target *sleep_quality_score* lies on a **0–100 scale**,  \n",
    "an error of around **±6 points** is quite reasonable.  \n",
    "\n",
    "That means the model generally predicts within a small range of the true value.  \n",
    " Very acceptable and realistic performance, especially for lifestyle-related data where natural variation is common.\n"
   ]
  },
  {
   "cell_type": "markdown",
   "id": "1d24acda",
   "metadata": {},
   "source": [
    "**Inference:**  \n",
    "The residuals are centered around zero (mean ≈ -0.27), showing the model is unbiased.  \n",
    "The spread (std ≈ 6.36) indicates moderate prediction error, acceptable for a 0–100 scale.  \n",
    "This suggests the linear regression model captures general trends but still misses some variability, likely due to lifestyle and environmental randomness.\n"
   ]
  }
 ],
 "metadata": {
  "kernelspec": {
   "display_name": "Python 3",
   "language": "python",
   "name": "python3"
  },
  "language_info": {
   "codemirror_mode": {
    "name": "ipython",
    "version": 3
   },
   "file_extension": ".py",
   "mimetype": "text/x-python",
   "name": "python",
   "nbconvert_exporter": "python",
   "pygments_lexer": "ipython3",
   "version": "3.13.5"
  }
 },
 "nbformat": 4,
 "nbformat_minor": 5
}
