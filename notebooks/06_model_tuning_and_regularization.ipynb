{
 "cells": [
  {
   "cell_type": "markdown",
   "id": "1eb9222f",
   "metadata": {},
   "source": [
    "# 06 - Model Tuning and Regularization\n",
    "\n",
    "***I apply Ridge and Lasso regression to improve model stability and reduce overfitting.  \n",
    "This helps balance bias and variance, and ensures feature coefficients remain realistic.***\n"
   ]
  },
  {
   "cell_type": "code",
   "execution_count": 4,
   "id": "154c6e69",
   "metadata": {},
   "outputs": [
    {
     "name": "stdout",
     "output_type": "stream",
     "text": [
      "imports and paths ready\n"
     ]
    }
   ],
   "source": [
    "# I import required libraries and define file paths\n",
    "import os, json\n",
    "import pandas as pd\n",
    "import numpy as np\n",
    "import matplotlib.pyplot as plt\n",
    "\n",
    "from sklearn.linear_model import Ridge, Lasso, LinearRegression\n",
    "\n",
    "from sklearn.model_selection import train_test_split, GridSearchCV\n",
    "from sklearn.metrics import mean_squared_error, r2_score\n",
    "import joblib\n",
    "\n",
    "FEATURES_PATH = \"../data/processed/sleepsense_features.csv\"\n",
    "RIDGE_PATH = \"../models/ridge_model.pkl\"\n",
    "LASSO_PATH = \"../models/lasso_model.pkl\"\n",
    "METRICS_PATH = \"../models/model_tuning_metrics.json\"\n",
    "os.makedirs(\"../models\", exist_ok=True)\n",
    "\n",
    "print(\"imports and paths ready\")\n"
   ]
  },
  {
   "cell_type": "markdown",
   "id": "e499f013",
   "metadata": {},
   "source": [
    "Inference: I prepare my tools and paths for tuning and saving results."
   ]
  },
  {
   "cell_type": "code",
   "execution_count": 2,
   "id": "1589e776",
   "metadata": {},
   "outputs": [
    {
     "name": "stdout",
     "output_type": "stream",
     "text": [
      "data shape: (12000, 45)\n"
     ]
    },
    {
     "data": {
      "text/html": [
       "<div>\n",
       "<style scoped>\n",
       "    .dataframe tbody tr th:only-of-type {\n",
       "        vertical-align: middle;\n",
       "    }\n",
       "\n",
       "    .dataframe tbody tr th {\n",
       "        vertical-align: top;\n",
       "    }\n",
       "\n",
       "    .dataframe thead th {\n",
       "        text-align: right;\n",
       "    }\n",
       "</style>\n",
       "<table border=\"1\" class=\"dataframe\">\n",
       "  <thead>\n",
       "    <tr style=\"text-align: right;\">\n",
       "      <th></th>\n",
       "      <th>age</th>\n",
       "      <th>family_size</th>\n",
       "      <th>work_hours</th>\n",
       "      <th>avg_sleep_hours</th>\n",
       "      <th>screen_time_hours</th>\n",
       "      <th>tea_cups</th>\n",
       "      <th>coffee_cups</th>\n",
       "      <th>late_snack</th>\n",
       "      <th>spice_intake</th>\n",
       "      <th>religious_freq</th>\n",
       "      <th>...</th>\n",
       "      <th>city_Surat</th>\n",
       "      <th>city_Thane</th>\n",
       "      <th>city_Vasai-Virar</th>\n",
       "      <th>sleep_deficit</th>\n",
       "      <th>digital_fatigue</th>\n",
       "      <th>lifestyle_balance</th>\n",
       "      <th>late_snack_effect</th>\n",
       "      <th>env_stress</th>\n",
       "      <th>fatigue_env_interaction</th>\n",
       "      <th>is_metro</th>\n",
       "    </tr>\n",
       "  </thead>\n",
       "  <tbody>\n",
       "    <tr>\n",
       "      <th>0</th>\n",
       "      <td>-0.55424</td>\n",
       "      <td>0.269326</td>\n",
       "      <td>1.398265</td>\n",
       "      <td>-1.712387</td>\n",
       "      <td>1.328569</td>\n",
       "      <td>0.596543</td>\n",
       "      <td>0.292850</td>\n",
       "      <td>-0.815221</td>\n",
       "      <td>-0.294897</td>\n",
       "      <td>0.228669</td>\n",
       "      <td>...</td>\n",
       "      <td>False</td>\n",
       "      <td>False</td>\n",
       "      <td>False</td>\n",
       "      <td>1.712387</td>\n",
       "      <td>0.759338</td>\n",
       "      <td>-2.179185</td>\n",
       "      <td>0.240407</td>\n",
       "      <td>0.553976</td>\n",
       "      <td>0.420655</td>\n",
       "      <td>0</td>\n",
       "    </tr>\n",
       "    <tr>\n",
       "      <th>1</th>\n",
       "      <td>1.98961</td>\n",
       "      <td>-1.347035</td>\n",
       "      <td>1.843044</td>\n",
       "      <td>-0.795982</td>\n",
       "      <td>0.373011</td>\n",
       "      <td>-1.371705</td>\n",
       "      <td>1.362622</td>\n",
       "      <td>-0.815221</td>\n",
       "      <td>-0.294897</td>\n",
       "      <td>-0.947260</td>\n",
       "      <td>...</td>\n",
       "      <td>False</td>\n",
       "      <td>False</td>\n",
       "      <td>False</td>\n",
       "      <td>0.795982</td>\n",
       "      <td>-0.218681</td>\n",
       "      <td>-1.224279</td>\n",
       "      <td>0.240407</td>\n",
       "      <td>0.257733</td>\n",
       "      <td>-0.056361</td>\n",
       "      <td>1</td>\n",
       "    </tr>\n",
       "  </tbody>\n",
       "</table>\n",
       "<p>2 rows × 45 columns</p>\n",
       "</div>"
      ],
      "text/plain": [
       "       age  family_size  work_hours  avg_sleep_hours  screen_time_hours  \\\n",
       "0 -0.55424     0.269326    1.398265        -1.712387           1.328569   \n",
       "1  1.98961    -1.347035    1.843044        -0.795982           0.373011   \n",
       "\n",
       "   tea_cups  coffee_cups  late_snack  spice_intake  religious_freq  ...  \\\n",
       "0  0.596543     0.292850   -0.815221     -0.294897        0.228669  ...   \n",
       "1 -1.371705     1.362622   -0.815221     -0.294897       -0.947260  ...   \n",
       "\n",
       "   city_Surat  city_Thane  city_Vasai-Virar  sleep_deficit  digital_fatigue  \\\n",
       "0       False       False             False       1.712387         0.759338   \n",
       "1       False       False             False       0.795982        -0.218681   \n",
       "\n",
       "   lifestyle_balance  late_snack_effect  env_stress  fatigue_env_interaction  \\\n",
       "0          -2.179185           0.240407    0.553976                 0.420655   \n",
       "1          -1.224279           0.240407    0.257733                -0.056361   \n",
       "\n",
       "   is_metro  \n",
       "0         0  \n",
       "1         1  \n",
       "\n",
       "[2 rows x 45 columns]"
      ]
     },
     "execution_count": 2,
     "metadata": {},
     "output_type": "execute_result"
    }
   ],
   "source": [
    "# I load the feature-engineered dataset\n",
    "df = pd.read_csv(FEATURES_PATH)\n",
    "print(\"data shape:\", df.shape)\n",
    "df.head(2)\n"
   ]
  },
  {
   "cell_type": "markdown",
   "id": "9e6a4e6c",
   "metadata": {},
   "source": [
    "Inference: I confirm the dataset is loaded correctly before training."
   ]
  },
  {
   "cell_type": "code",
   "execution_count": 3,
   "id": "86d95e8c",
   "metadata": {},
   "outputs": [
    {
     "name": "stdout",
     "output_type": "stream",
     "text": [
      "train: (9600, 13)  test: (2400, 13)\n"
     ]
    }
   ],
   "source": [
    "# I prepare features and target variable for training\n",
    "possible_features = [\n",
    "    'sleep_deficit','digital_fatigue','env_stress','lifestyle_balance',\n",
    "    'late_snack_effect','fatigue_env_interaction','is_metro',\n",
    "    'avg_sleep_hours','screen_time_hours','stress_level',\n",
    "    'physical_activity_min','age','family_size'\n",
    "]\n",
    "features = [f for f in possible_features if f in df.columns]\n",
    "X = df[features]\n",
    "y = df['sleep_quality_score']\n",
    "\n",
    "X_train, X_test, y_train, y_test = train_test_split(X, y, test_size=0.2, random_state=42)\n",
    "print(\"train:\", X_train.shape, \" test:\", X_test.shape)\n"
   ]
  },
  {
   "cell_type": "markdown",
   "id": "0b890172",
   "metadata": {},
   "source": [
    "Inference: Data split for fair evaluation of Ridge and Lasso."
   ]
  },
  {
   "cell_type": "markdown",
   "id": "e963a7cc",
   "metadata": {},
   "source": [
    "## ***Ridge Regression (tuning alpha)***"
   ]
  },
  {
   "cell_type": "code",
   "execution_count": 5,
   "id": "f401b8c7",
   "metadata": {},
   "outputs": [
    {
     "name": "stdout",
     "output_type": "stream",
     "text": [
      "Ridge best alpha: 50\n",
      "Ridge R²: 0.4603  RMSE: 6.368\n"
     ]
    }
   ],
   "source": [
    "# I tune Ridge regression using simple grid search\n",
    "ridge_params = {'alpha': [0.1, 0.5, 1, 5, 10, 20, 50]}\n",
    "ridge = Ridge()\n",
    "ridge_cv = GridSearchCV(ridge, ridge_params, cv=5, scoring='r2')\n",
    "ridge_cv.fit(X_train, y_train)\n",
    "\n",
    "ridge_best = ridge_cv.best_estimator_\n",
    "ridge_preds = ridge_best.predict(X_test)\n",
    "\n",
    "ridge_r2 = r2_score(y_test, ridge_preds)\n",
    "ridge_rmse = np.sqrt(mean_squared_error(y_test, ridge_preds))\n",
    "print(\"Ridge best alpha:\", ridge_cv.best_params_['alpha'])\n",
    "print(\"Ridge R²:\", round(ridge_r2,4), \" RMSE:\", round(ridge_rmse,3))\n"
   ]
  },
  {
   "cell_type": "markdown",
   "id": "62484267",
   "metadata": {},
   "source": [
    "**Inference:**\n",
    "\n",
    "- Ridge Regression performed best with **alpha = 50**.  \n",
    "- It gave an **R² of 0.46** and **RMSE of 6.37**,  \n",
    "showing almost the same accuracy as Linear Regression but with better stability and less overfitting.\n"
   ]
  },
  {
   "cell_type": "markdown",
   "id": "c9f9ca75",
   "metadata": {},
   "source": [
    "#### Comment:\n",
    "\n",
    "- alpha controls regularization strength.\n",
    "\n",
    "- Higher alpha = more penalty on large coefficients (simpler model).\n",
    "\n",
    "* ***Inference: I find the best Ridge model that balances fit and stability.***"
   ]
  },
  {
   "cell_type": "markdown",
   "id": "ee6d9b82",
   "metadata": {},
   "source": [
    "## ***Lasso Regression (tuning alpha)***"
   ]
  },
  {
   "cell_type": "code",
   "execution_count": 6,
   "id": "489b2c40",
   "metadata": {},
   "outputs": [
    {
     "name": "stdout",
     "output_type": "stream",
     "text": [
      "Lasso best alpha: 0.01\n",
      "Lasso R²: 0.4603  RMSE: 6.368\n"
     ]
    }
   ],
   "source": [
    "# I do the same tuning process for Lasso regression\n",
    "lasso_params = {'alpha': [0.001, 0.01, 0.1, 0.5, 1, 5, 10]}\n",
    "lasso = Lasso(max_iter=5000)\n",
    "lasso_cv = GridSearchCV(lasso, lasso_params, cv=5, scoring='r2')\n",
    "lasso_cv.fit(X_train, y_train)\n",
    "\n",
    "lasso_best = lasso_cv.best_estimator_\n",
    "lasso_preds = lasso_best.predict(X_test)\n",
    "\n",
    "lasso_r2 = r2_score(y_test, lasso_preds)\n",
    "lasso_rmse = np.sqrt(mean_squared_error(y_test, lasso_preds))\n",
    "print(\"Lasso best alpha:\", lasso_cv.best_params_['alpha'])\n",
    "print(\"Lasso R²:\", round(lasso_r2,4), \" RMSE:\", round(lasso_rmse,3))\n"
   ]
  },
  {
   "cell_type": "markdown",
   "id": "9f403b1f",
   "metadata": {},
   "source": [
    "**Inference:**\n",
    "\n",
    "- Lasso Regression worked best with **alpha = 0.01**.  \n",
    "- It achieved an **R² of 0.46** and **RMSE of 6.37**,  \n",
    "giving performance similar to Ridge but with a simpler model by slightly shrinking weaker features.\n"
   ]
  },
  {
   "cell_type": "markdown",
   "id": "acb3e7ad",
   "metadata": {},
   "source": [
    "### Comment:\n",
    "\n",
    "- Lasso can shrink some coefficients to zero → helps identify least useful features.\n",
    "\n",
    "* ***Inference: I find which alpha gives the best generalization with Lasso.***"
   ]
  },
  {
   "cell_type": "markdown",
   "id": "bf00834a",
   "metadata": {},
   "source": [
    "## ***Comparing Models***"
   ]
  },
  {
   "cell_type": "code",
   "execution_count": 7,
   "id": "85fcd081",
   "metadata": {},
   "outputs": [
    {
     "data": {
      "text/html": [
       "<div>\n",
       "<style scoped>\n",
       "    .dataframe tbody tr th:only-of-type {\n",
       "        vertical-align: middle;\n",
       "    }\n",
       "\n",
       "    .dataframe tbody tr th {\n",
       "        vertical-align: top;\n",
       "    }\n",
       "\n",
       "    .dataframe thead th {\n",
       "        text-align: right;\n",
       "    }\n",
       "</style>\n",
       "<table border=\"1\" class=\"dataframe\">\n",
       "  <thead>\n",
       "    <tr style=\"text-align: right;\">\n",
       "      <th></th>\n",
       "      <th>Model</th>\n",
       "      <th>R2</th>\n",
       "      <th>RMSE</th>\n",
       "    </tr>\n",
       "  </thead>\n",
       "  <tbody>\n",
       "    <tr>\n",
       "      <th>0</th>\n",
       "      <td>Linear Regression</td>\n",
       "      <td>0.4603</td>\n",
       "      <td>6.368</td>\n",
       "    </tr>\n",
       "    <tr>\n",
       "      <th>1</th>\n",
       "      <td>Ridge Regression</td>\n",
       "      <td>0.4603</td>\n",
       "      <td>6.368</td>\n",
       "    </tr>\n",
       "    <tr>\n",
       "      <th>2</th>\n",
       "      <td>Lasso Regression</td>\n",
       "      <td>0.4603</td>\n",
       "      <td>6.368</td>\n",
       "    </tr>\n",
       "  </tbody>\n",
       "</table>\n",
       "</div>"
      ],
      "text/plain": [
       "               Model      R2   RMSE\n",
       "0  Linear Regression  0.4603  6.368\n",
       "1   Ridge Regression  0.4603  6.368\n",
       "2   Lasso Regression  0.4603  6.368"
      ]
     },
     "execution_count": 7,
     "metadata": {},
     "output_type": "execute_result"
    }
   ],
   "source": [
    "# I compare all three models: Linear, Ridge, Lasso\n",
    "linear_metrics = json.load(open(\"../models/model_metrics.json\"))\n",
    "ridge_metrics = {\"r2\": ridge_r2, \"rmse\": ridge_rmse, \"alpha\": ridge_cv.best_params_['alpha']}\n",
    "lasso_metrics = {\"r2\": lasso_r2, \"rmse\": lasso_rmse, \"alpha\": lasso_cv.best_params_['alpha']}\n",
    "\n",
    "comparison = pd.DataFrame([\n",
    "    {\"Model\": \"Linear Regression\", \"R2\": round(linear_metrics['r2'],4), \"RMSE\": round(linear_metrics['rmse'],3)},\n",
    "    {\"Model\": \"Ridge Regression\", \"R2\": round(ridge_r2,4), \"RMSE\": round(ridge_rmse,3)},\n",
    "    {\"Model\": \"Lasso Regression\", \"R2\": round(lasso_r2,4), \"RMSE\": round(lasso_rmse,3)}\n",
    "])\n",
    "comparison\n"
   ]
  },
  {
   "cell_type": "markdown",
   "id": "bae14c8a",
   "metadata": {},
   "source": [
    "**Inference:**\n",
    "\n",
    "- All three models — **Linear**, **Ridge**, and **Lasso Regression** — gave almost identical results  \n",
    "(**R² = 0.46**, **RMSE = 6.37**).  \n",
    "\n",
    "- This shows the model is already well-regularized and stable,  \n",
    "so adding regularization didn’t change accuracy much.  \n",
    "\n",
    "- Ridge or Lasso can still be preferred for deployment since they help keep coefficients more balanced.\n"
   ]
  },
  {
   "cell_type": "markdown",
   "id": "122865be",
   "metadata": {},
   "source": [
    "Inference: I clearly see which model performs better in terms of R² and RMSE."
   ]
  },
  {
   "cell_type": "markdown",
   "id": "f55e9c14",
   "metadata": {},
   "source": [
    "## ***Save the best Models***"
   ]
  },
  {
   "cell_type": "code",
   "execution_count": 8,
   "id": "99a8843e",
   "metadata": {},
   "outputs": [
    {
     "name": "stdout",
     "output_type": "stream",
     "text": [
      "saved Ridge and Lasso models with metrics\n"
     ]
    }
   ],
   "source": [
    "# I save the tuned models and their metrics\n",
    "joblib.dump(ridge_best, RIDGE_PATH)\n",
    "joblib.dump(lasso_best, LASSO_PATH)\n",
    "\n",
    "tuning_summary = {\n",
    "    \"ridge_best_alpha\": ridge_cv.best_params_['alpha'],\n",
    "    \"ridge_r2\": ridge_r2,\n",
    "    \"ridge_rmse\": ridge_rmse,\n",
    "    \"lasso_best_alpha\": lasso_cv.best_params_['alpha'],\n",
    "    \"lasso_r2\": lasso_r2,\n",
    "    \"lasso_rmse\": lasso_rmse\n",
    "}\n",
    "with open(METRICS_PATH, \"w\") as f:\n",
    "    json.dump(tuning_summary, f, indent=2)\n",
    "\n",
    "print(\"saved Ridge and Lasso models with metrics\")\n"
   ]
  },
  {
   "cell_type": "markdown",
   "id": "02291c93",
   "metadata": {},
   "source": [
    "Inference: Both tuned models are saved for comparison and Streamlit deployment."
   ]
  },
  {
   "cell_type": "markdown",
   "id": "4b55ebd1",
   "metadata": {},
   "source": [
    "## ***Coefficient comparison***"
   ]
  },
  {
   "cell_type": "code",
   "execution_count": 9,
   "id": "301e26be",
   "metadata": {},
   "outputs": [
    {
     "data": {
      "text/html": [
       "<div>\n",
       "<style scoped>\n",
       "    .dataframe tbody tr th:only-of-type {\n",
       "        vertical-align: middle;\n",
       "    }\n",
       "\n",
       "    .dataframe tbody tr th {\n",
       "        vertical-align: top;\n",
       "    }\n",
       "\n",
       "    .dataframe thead th {\n",
       "        text-align: right;\n",
       "    }\n",
       "</style>\n",
       "<table border=\"1\" class=\"dataframe\">\n",
       "  <thead>\n",
       "    <tr style=\"text-align: right;\">\n",
       "      <th></th>\n",
       "      <th>Feature</th>\n",
       "      <th>Ridge</th>\n",
       "      <th>Lasso</th>\n",
       "    </tr>\n",
       "  </thead>\n",
       "  <tbody>\n",
       "    <tr>\n",
       "      <th>0</th>\n",
       "      <td>env_stress</td>\n",
       "      <td>-1.723</td>\n",
       "      <td>-1.726</td>\n",
       "    </tr>\n",
       "    <tr>\n",
       "      <th>1</th>\n",
       "      <td>stress_level</td>\n",
       "      <td>-1.536</td>\n",
       "      <td>-0.933</td>\n",
       "    </tr>\n",
       "    <tr>\n",
       "      <th>2</th>\n",
       "      <td>sleep_deficit</td>\n",
       "      <td>-1.423</td>\n",
       "      <td>-2.694</td>\n",
       "    </tr>\n",
       "    <tr>\n",
       "      <th>3</th>\n",
       "      <td>avg_sleep_hours</td>\n",
       "      <td>1.423</td>\n",
       "      <td>0.153</td>\n",
       "    </tr>\n",
       "    <tr>\n",
       "      <th>4</th>\n",
       "      <td>digital_fatigue</td>\n",
       "      <td>-1.377</td>\n",
       "      <td>-3.812</td>\n",
       "    </tr>\n",
       "    <tr>\n",
       "      <th>5</th>\n",
       "      <td>screen_time_hours</td>\n",
       "      <td>-1.217</td>\n",
       "      <td>-0.000</td>\n",
       "    </tr>\n",
       "    <tr>\n",
       "      <th>6</th>\n",
       "      <td>is_metro</td>\n",
       "      <td>-1.000</td>\n",
       "      <td>-0.958</td>\n",
       "    </tr>\n",
       "    <tr>\n",
       "      <th>7</th>\n",
       "      <td>lifestyle_balance</td>\n",
       "      <td>0.921</td>\n",
       "      <td>0.304</td>\n",
       "    </tr>\n",
       "    <tr>\n",
       "      <th>8</th>\n",
       "      <td>physical_activity_min</td>\n",
       "      <td>-0.614</td>\n",
       "      <td>-0.000</td>\n",
       "    </tr>\n",
       "    <tr>\n",
       "      <th>9</th>\n",
       "      <td>family_size</td>\n",
       "      <td>-0.230</td>\n",
       "      <td>-0.212</td>\n",
       "    </tr>\n",
       "    <tr>\n",
       "      <th>10</th>\n",
       "      <td>age</td>\n",
       "      <td>-0.216</td>\n",
       "      <td>-0.207</td>\n",
       "    </tr>\n",
       "    <tr>\n",
       "      <th>11</th>\n",
       "      <td>fatigue_env_interaction</td>\n",
       "      <td>-0.090</td>\n",
       "      <td>-0.057</td>\n",
       "    </tr>\n",
       "    <tr>\n",
       "      <th>12</th>\n",
       "      <td>late_snack_effect</td>\n",
       "      <td>0.028</td>\n",
       "      <td>0.017</td>\n",
       "    </tr>\n",
       "  </tbody>\n",
       "</table>\n",
       "</div>"
      ],
      "text/plain": [
       "                    Feature  Ridge  Lasso\n",
       "0                env_stress -1.723 -1.726\n",
       "1              stress_level -1.536 -0.933\n",
       "2             sleep_deficit -1.423 -2.694\n",
       "3           avg_sleep_hours  1.423  0.153\n",
       "4           digital_fatigue -1.377 -3.812\n",
       "5         screen_time_hours -1.217 -0.000\n",
       "6                  is_metro -1.000 -0.958\n",
       "7         lifestyle_balance  0.921  0.304\n",
       "8     physical_activity_min -0.614 -0.000\n",
       "9               family_size -0.230 -0.212\n",
       "10                      age -0.216 -0.207\n",
       "11  fatigue_env_interaction -0.090 -0.057\n",
       "12        late_snack_effect  0.028  0.017"
      ]
     },
     "execution_count": 9,
     "metadata": {},
     "output_type": "execute_result"
    }
   ],
   "source": [
    "# I visualize how Ridge and Lasso change feature weights\n",
    "ridge_coef = pd.Series(ridge_best.coef_, index=features)\n",
    "lasso_coef = pd.Series(lasso_best.coef_, index=features)\n",
    "\n",
    "coef_df = pd.DataFrame({\n",
    "    \"Feature\": features,\n",
    "    \"Ridge\": ridge_coef.round(3),\n",
    "    \"Lasso\": lasso_coef.round(3)\n",
    "}).sort_values(by=\"Ridge\", key=abs, ascending=False).reset_index(drop=True)\n",
    "coef_df\n"
   ]
  },
  {
   "cell_type": "markdown",
   "id": "bfb1cbf7",
   "metadata": {},
   "source": [
    "**Inference:**\n",
    "\n",
    "- Both **Ridge** and **Lasso** kept the same main features but reduced weaker ones.  \n",
    "- **env_stress**, **stress_level**, **sleep_deficit**, and **digital_fatigue** are the top negative factors for sleep quality.  \n",
    "- **Ridge** keeps all features but slightly reduces their strength.  \n",
    "- **Lasso** removes very weak features like *screen_time_hours* and *physical_activity_min* (coefficients = 0).  \n",
    "- Both models confirm the same major lifestyle and environment factors as key predictors.  \n",
    "- Regularization mainly improved model **stability and interpretability**, not accuracy.\n"
   ]
  },
  {
   "cell_type": "markdown",
   "id": "e0847e5b",
   "metadata": {},
   "source": [
    "I check which features shrink under regularization — Lasso may remove weak ones (coefficient = 0)."
   ]
  },
  {
   "cell_type": "markdown",
   "id": "a395c060",
   "metadata": {},
   "source": [
    "## ***Visualization: Coefficients***"
   ]
  },
  {
   "cell_type": "code",
   "execution_count": 10,
   "id": "a0cf8010",
   "metadata": {},
   "outputs": [
    {
     "data": {
      "image/png": "[encoded data removed]",
      "text/plain": [
       "<Figure size 800x500 with 1 Axes>"
      ]
     },
     "metadata": {},
     "output_type": "display_data"
    }
   ],
   "source": [
    "# I plot coefficient comparison for both models\n",
    "plt.figure(figsize=(8,5))\n",
    "plt.plot(ridge_coef.values, 'o-', label='Ridge')\n",
    "plt.plot(lasso_coef.values, 's-', label='Lasso')\n",
    "plt.xticks(range(len(features)), features, rotation=75)\n",
    "plt.title(\"Feature Coefficient Comparison: Ridge vs Lasso\")\n",
    "plt.xlabel(\"Features\")\n",
    "plt.ylabel(\"Coefficient Value\")\n",
    "plt.legend()\n",
    "plt.tight_layout()\n",
    "plt.savefig(\"../reports/EDA_visuals/regularization_coefficients.png\", dpi=150)\n",
    "plt.show()\n"
   ]
  },
  {
   "cell_type": "markdown",
   "id": "7049c45c",
   "metadata": {},
   "source": [
    "Inference:\n",
    "Helps me see which features remain stable and which ones get penalized more."
   ]
  },
  {
   "cell_type": "markdown",
   "id": "facc045b",
   "metadata": {},
   "source": [
    "## ***Summary***"
   ]
  },
  {
   "cell_type": "markdown",
   "id": "5afb24b0",
   "metadata": {},
   "source": [
    "**Inference:**\n",
    "\n",
    "- Ridge slightly improves generalization by reducing extreme coefficient values.  \n",
    "- Lasso performs feature selection by driving weak features toward zero.  \n",
    "- Both models have similar accuracy (R² around 0.46–0.48), showing stable results.  \n",
    "- For final deployment, **Ridge** may be preferred since it retains all features but keeps them balanced.\n",
    "\n",
    "**Next Steps:**  \n",
    "I will use the best-performing model in the Streamlit app to make live sleep quality predictions.\n"
   ]
  }
 ],
 "metadata": {
  "kernelspec": {
   "display_name": "Python 3",
   "language": "python",
   "name": "python3"
  },
  "language_info": {
   "codemirror_mode": {
    "name": "ipython",
    "version": 3
   },
   "file_extension": ".py",
   "mimetype": "text/x-python",
   "name": "python",
   "nbconvert_exporter": "python",
   "pygments_lexer": "ipython3",
   "version": "3.13.5"
  }
 },
 "nbformat": 4,
 "nbformat_minor": 5
}
