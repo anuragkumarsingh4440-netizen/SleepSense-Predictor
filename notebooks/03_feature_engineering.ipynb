{
 "cells": [
  {
   "cell_type": "code",
   "execution_count": 1,
   "id": "51022b0c",
   "metadata": {},
   "outputs": [
    {
     "name": "stdout",
     "output_type": "stream",
     "text": [
      "ready\n"
     ]
    }
   ],
   "source": [
    "# I import pandas and numpy and set the processed data path\n",
    "import pandas as pd\n",
    "import numpy as np\n",
    "import os\n",
    "\n",
    "PROCESSED_PATH = \"../data/processed/sleepsense_processed.csv\"\n",
    "OUT_PATH = \"../data/processed/sleepsense_features.csv\"\n",
    "os.makedirs(\"../data/processed\", exist_ok=True)\n",
    "\n",
    "print(\"ready\")\n"
   ]
  },
  {
   "cell_type": "markdown",
   "id": "78c829b6",
   "metadata": {},
   "source": [
    "Inference: I set paths and ensured the processed folder exists."
   ]
  },
  {
   "cell_type": "code",
   "execution_count": 2,
   "id": "d22f7bbf",
   "metadata": {},
   "outputs": [
    {
     "name": "stdout",
     "output_type": "stream",
     "text": [
      "loaded shape: (12000, 38)\n"
     ]
    },
    {
     "data": {
      "text/html": [
       "<div>\n",
       "<style scoped>\n",
       "    .dataframe tbody tr th:only-of-type {\n",
       "        vertical-align: middle;\n",
       "    }\n",
       "\n",
       "    .dataframe tbody tr th {\n",
       "        vertical-align: top;\n",
       "    }\n",
       "\n",
       "    .dataframe thead th {\n",
       "        text-align: right;\n",
       "    }\n",
       "</style>\n",
       "<table border=\"1\" class=\"dataframe\">\n",
       "  <thead>\n",
       "    <tr style=\"text-align: right;\">\n",
       "      <th></th>\n",
       "      <th>age</th>\n",
       "      <th>family_size</th>\n",
       "      <th>work_hours</th>\n",
       "      <th>avg_sleep_hours</th>\n",
       "      <th>screen_time_hours</th>\n",
       "      <th>tea_cups</th>\n",
       "      <th>coffee_cups</th>\n",
       "      <th>late_snack</th>\n",
       "      <th>spice_intake</th>\n",
       "      <th>religious_freq</th>\n",
       "      <th>...</th>\n",
       "      <th>city_Kanpur</th>\n",
       "      <th>city_Kolkata</th>\n",
       "      <th>city_Mumbai</th>\n",
       "      <th>city_Navi Mumbai</th>\n",
       "      <th>city_Other</th>\n",
       "      <th>city_Pimpri-Chinchwad</th>\n",
       "      <th>city_Pune</th>\n",
       "      <th>city_Surat</th>\n",
       "      <th>city_Thane</th>\n",
       "      <th>city_Vasai-Virar</th>\n",
       "    </tr>\n",
       "  </thead>\n",
       "  <tbody>\n",
       "    <tr>\n",
       "      <th>0</th>\n",
       "      <td>-0.55424</td>\n",
       "      <td>0.269326</td>\n",
       "      <td>1.398265</td>\n",
       "      <td>-1.712387</td>\n",
       "      <td>1.328569</td>\n",
       "      <td>0.596543</td>\n",
       "      <td>0.292850</td>\n",
       "      <td>-0.815221</td>\n",
       "      <td>-0.294897</td>\n",
       "      <td>0.228669</td>\n",
       "      <td>...</td>\n",
       "      <td>False</td>\n",
       "      <td>False</td>\n",
       "      <td>False</td>\n",
       "      <td>False</td>\n",
       "      <td>True</td>\n",
       "      <td>False</td>\n",
       "      <td>False</td>\n",
       "      <td>False</td>\n",
       "      <td>False</td>\n",
       "      <td>False</td>\n",
       "    </tr>\n",
       "    <tr>\n",
       "      <th>1</th>\n",
       "      <td>1.98961</td>\n",
       "      <td>-1.347035</td>\n",
       "      <td>1.843044</td>\n",
       "      <td>-0.795982</td>\n",
       "      <td>0.373011</td>\n",
       "      <td>-1.371705</td>\n",
       "      <td>1.362622</td>\n",
       "      <td>-0.815221</td>\n",
       "      <td>-0.294897</td>\n",
       "      <td>-0.947260</td>\n",
       "      <td>...</td>\n",
       "      <td>False</td>\n",
       "      <td>True</td>\n",
       "      <td>False</td>\n",
       "      <td>False</td>\n",
       "      <td>False</td>\n",
       "      <td>False</td>\n",
       "      <td>False</td>\n",
       "      <td>False</td>\n",
       "      <td>False</td>\n",
       "      <td>False</td>\n",
       "    </tr>\n",
       "  </tbody>\n",
       "</table>\n",
       "<p>2 rows × 38 columns</p>\n",
       "</div>"
      ],
      "text/plain": [
       "       age  family_size  work_hours  avg_sleep_hours  screen_time_hours  \\\n",
       "0 -0.55424     0.269326    1.398265        -1.712387           1.328569   \n",
       "1  1.98961    -1.347035    1.843044        -0.795982           0.373011   \n",
       "\n",
       "   tea_cups  coffee_cups  late_snack  spice_intake  religious_freq  ...  \\\n",
       "0  0.596543     0.292850   -0.815221     -0.294897        0.228669  ...   \n",
       "1 -1.371705     1.362622   -0.815221     -0.294897       -0.947260  ...   \n",
       "\n",
       "   city_Kanpur  city_Kolkata  city_Mumbai  city_Navi Mumbai  city_Other  \\\n",
       "0        False         False        False             False        True   \n",
       "1        False          True        False             False       False   \n",
       "\n",
       "   city_Pimpri-Chinchwad  city_Pune  city_Surat  city_Thane  city_Vasai-Virar  \n",
       "0                  False      False       False       False             False  \n",
       "1                  False      False       False       False             False  \n",
       "\n",
       "[2 rows x 38 columns]"
      ]
     },
     "execution_count": 2,
     "metadata": {},
     "output_type": "execute_result"
    }
   ],
   "source": [
    "# I load the processed dataset from previous step\n",
    "df = pd.read_csv(PROCESSED_PATH)\n",
    "print(\"loaded shape:\", df.shape)\n",
    "df.head(2)\n"
   ]
  },
  {
   "cell_type": "markdown",
   "id": "35a8738e",
   "metadata": {},
   "source": [
    "Inference: Data loaded successfully and ready for new features."
   ]
  },
  {
   "cell_type": "code",
   "execution_count": 3,
   "id": "273d1412",
   "metadata": {},
   "outputs": [
    {
     "name": "stdout",
     "output_type": "stream",
     "text": [
      "sleep_deficit created\n"
     ]
    }
   ],
   "source": [
    "# I create 'sleep_deficit' because people with lower sleep hours usually have poor sleep quality.\n",
    "# Since 'avg_sleep_hours' is already scaled, I use its negative value to represent deficit.\n",
    "# Higher positive value here = greater lack of sleep compared to others.\n",
    "if 'avg_sleep_hours' in df.columns:\n",
    "    df['sleep_deficit'] = (-1) * df['avg_sleep_hours']\n",
    "    print(\"sleep_deficit created\")\n",
    "else:\n",
    "    print(\"avg_sleep_hours not found\")\n"
   ]
  },
  {
   "cell_type": "markdown",
   "id": "48d8cd14",
   "metadata": {},
   "source": [
    "Inference: sleep_deficit shows how far someone is from ideal sleep time (higher = worse)."
   ]
  },
  {
   "cell_type": "code",
   "execution_count": 4,
   "id": "675990d0",
   "metadata": {},
   "outputs": [
    {
     "name": "stdout",
     "output_type": "stream",
     "text": [
      "digital_fatigue created\n"
     ]
    }
   ],
   "source": [
    "# I create 'digital_fatigue' because too much screen time and stress together harm sleep.\n",
    "# The formula combines 'screen_time_hours' and 'stress_level' by taking their average.\n",
    "# Both are already scaled, so this combination makes a balanced fatigue indicator.\n",
    "if {'screen_time_hours','stress_level'}.issubset(df.columns):\n",
    "    df['digital_fatigue'] = (df['screen_time_hours'] + df['stress_level']) / 2\n",
    "    print(\"digital_fatigue created\")\n",
    "else:\n",
    "    print(\"needed columns not found\")\n"
   ]
  },
  {
   "cell_type": "markdown",
   "id": "2db3dfde",
   "metadata": {},
   "source": [
    "Inference: digital_fatigue captures total tiredness caused by both stress and device exposure."
   ]
  },
  {
   "cell_type": "code",
   "execution_count": 5,
   "id": "b4395f32",
   "metadata": {},
   "outputs": [
    {
     "name": "stdout",
     "output_type": "stream",
     "text": [
      "lifestyle_balance created\n"
     ]
    }
   ],
   "source": [
    "# I create 'lifestyle_balance' because a healthy life means high activity and low stress.\n",
    "# The formula subtracts stress_level from physical_activity_min (both are scaled).\n",
    "# Positive values mean good balance; negative means imbalance (stress > activity).\n",
    "if {'physical_activity_min','stress_level'}.issubset(df.columns):\n",
    "    df['lifestyle_balance'] = df['physical_activity_min'] - df['stress_level']\n",
    "    print(\"lifestyle_balance created\")\n",
    "else:\n",
    "    print(\"columns missing for lifestyle_balance\")\n"
   ]
  },
  {
   "cell_type": "markdown",
   "id": "3d7936d8",
   "metadata": {},
   "source": [
    "Inference: lifestyle_balance shows if someone’s lifestyle is balanced between work and relaxation."
   ]
  },
  {
   "cell_type": "code",
   "execution_count": 6,
   "id": "b7062caf",
   "metadata": {},
   "outputs": [
    {
     "name": "stdout",
     "output_type": "stream",
     "text": [
      "late_snack_effect created\n"
     ]
    }
   ],
   "source": [
    "# I make 'late_snack_effect' because eating late, especially spicy food, can disturb sleep.\n",
    "# The formula multiplies 'late_snack' and 'spice_intake' to reflect stronger effect for spicy eaters.\n",
    "if {'late_snack','spice_intake'}.issubset(df.columns):\n",
    "    df['late_snack_effect'] = df['late_snack'] * df['spice_intake']\n",
    "    print(\"late_snack_effect created\")\n",
    "else:\n",
    "    print(\"columns missing for late_snack_effect\")\n"
   ]
  },
  {
   "cell_type": "markdown",
   "id": "aa0b6398",
   "metadata": {},
   "source": [
    "Inference: late_snack_effect shows how much late spicy meals might reduce sleep quality."
   ]
  },
  {
   "cell_type": "code",
   "execution_count": 9,
   "id": "b7637116",
   "metadata": {},
   "outputs": [
    {
     "name": "stdout",
     "output_type": "stream",
     "text": [
      "env_stress created using: ['city_noise_dB', 'light_pollution_index', 'air_quality_index']\n"
     ]
    }
   ],
   "source": [
    "# I make 'env_stress' because city noise, light pollution, and air quality together affect sleep.\n",
    "# I take the mean of these three scaled columns to represent total environmental stress.\n",
    "\n",
    "# Create 'env_stress' as the mean of environmental factors\n",
    "cols = [c for c in ['city_noise_dB', 'light_pollution_index', 'air_quality_index'] if c in df.columns]\n",
    "\n",
    "if cols:\n",
    "    df['env_stress'] = df[cols].mean(axis=1)\n",
    "    print(f\"env_stress created using: {cols}\")\n",
    "else:\n",
    "    print(\"No environmental columns found\")\n"
   ]
  },
  {
   "cell_type": "markdown",
   "id": "aa14ef82",
   "metadata": {},
   "source": [
    "Creating 'env_stress' as the mean of environmental factors"
   ]
  },
  {
   "cell_type": "code",
   "execution_count": 10,
   "id": "e1935b94",
   "metadata": {},
   "outputs": [
    {
     "name": "stdout",
     "output_type": "stream",
     "text": [
      "fatigue_env_interaction created\n"
     ]
    }
   ],
   "source": [
    "# I create 'fatigue_env_interaction' to see how digital fatigue combines with bad environment.\n",
    "# If both are high, sleep quality may drop sharply, so I multiply them.\n",
    "if {'digital_fatigue','env_stress'}.issubset(df.columns):\n",
    "    df['fatigue_env_interaction'] = df['digital_fatigue'] * df['env_stress']\n",
    "    print(\"fatigue_env_interaction created\")\n",
    "else:\n",
    "    print(\"interaction columns missing\")\n"
   ]
  },
  {
   "cell_type": "markdown",
   "id": "79629b2e",
   "metadata": {},
   "source": [
    "Inference: fatigue_env_interaction represents the combined impact of devices + pollution on sleep."
   ]
  },
  {
   "cell_type": "code",
   "execution_count": 11,
   "id": "c4ec31f7",
   "metadata": {},
   "outputs": [
    {
     "name": "stdout",
     "output_type": "stream",
     "text": [
      "is_metro created\n"
     ]
    }
   ],
   "source": [
    "# I create 'is_metro' to mark people living in major metro cities like Mumbai, Delhi, Bengaluru, etc.\n",
    "# Metro residents usually face higher noise, stress, and irregular routines.\n",
    "# I find these cities from the one-hot encoded columns and mark 1 for metro, 0 for others.\n",
    "metro_words = ['Mumbai','Delhi','Bengaluru','Kolkata','Chennai','Hyderabad','Pune','Ahmedabad']\n",
    "metro_cols = [c for c in df.columns if c.startswith('city_') and any(m in c for m in metro_words)]\n",
    "\n",
    "if metro_cols:\n",
    "    df['is_metro'] = df[metro_cols].any(axis=1).astype(int)\n",
    "    print(\"is_metro created\")\n",
    "else:\n",
    "    print(\"no city dummy columns found\")\n"
   ]
  },
  {
   "cell_type": "markdown",
   "id": "4efc3fb1",
   "metadata": {},
   "source": [
    "Inference: is_metro shows whether a person lives in a big, high-stress city."
   ]
  },
  {
   "cell_type": "code",
   "execution_count": 12,
   "id": "60d142e4",
   "metadata": {},
   "outputs": [
    {
     "name": "stdout",
     "output_type": "stream",
     "text": [
      "saved with new features: (12000, 45)\n"
     ]
    }
   ],
   "source": [
    "# I save the dataset with all new features for the modeling notebook.\n",
    "OUT_PATH = \"../data/processed/sleepsense_features.csv\"\n",
    "df.to_csv(OUT_PATH, index=False)\n",
    "print(\"saved with new features:\", df.shape)\n"
   ]
  },
  {
   "cell_type": "markdown",
   "id": "131df648",
   "metadata": {},
   "source": [
    "### ***Inference: The dataset with engineered features is ready for modeling.***"
   ]
  },
  {
   "cell_type": "markdown",
   "id": "fb8f8744",
   "metadata": {},
   "source": [
    "## ***Checking New Features***"
   ]
  },
  {
   "cell_type": "code",
   "execution_count": 13,
   "id": "d443f0c3",
   "metadata": {},
   "outputs": [
    {
     "data": {
      "text/html": [
       "<div>\n",
       "<style scoped>\n",
       "    .dataframe tbody tr th:only-of-type {\n",
       "        vertical-align: middle;\n",
       "    }\n",
       "\n",
       "    .dataframe tbody tr th {\n",
       "        vertical-align: top;\n",
       "    }\n",
       "\n",
       "    .dataframe thead th {\n",
       "        text-align: right;\n",
       "    }\n",
       "</style>\n",
       "<table border=\"1\" class=\"dataframe\">\n",
       "  <thead>\n",
       "    <tr style=\"text-align: right;\">\n",
       "      <th></th>\n",
       "      <th>sleep_deficit</th>\n",
       "      <th>digital_fatigue</th>\n",
       "      <th>env_stress</th>\n",
       "      <th>lifestyle_balance</th>\n",
       "      <th>late_snack_effect</th>\n",
       "      <th>fatigue_env_interaction</th>\n",
       "      <th>is_metro</th>\n",
       "    </tr>\n",
       "  </thead>\n",
       "  <tbody>\n",
       "    <tr>\n",
       "      <th>0</th>\n",
       "      <td>1.712387</td>\n",
       "      <td>0.759338</td>\n",
       "      <td>0.553976</td>\n",
       "      <td>-2.179185</td>\n",
       "      <td>0.240407</td>\n",
       "      <td>0.420655</td>\n",
       "      <td>0</td>\n",
       "    </tr>\n",
       "    <tr>\n",
       "      <th>1</th>\n",
       "      <td>0.795982</td>\n",
       "      <td>-0.218681</td>\n",
       "      <td>0.257733</td>\n",
       "      <td>-1.224279</td>\n",
       "      <td>0.240407</td>\n",
       "      <td>-0.056361</td>\n",
       "      <td>1</td>\n",
       "    </tr>\n",
       "    <tr>\n",
       "      <th>2</th>\n",
       "      <td>0.502377</td>\n",
       "      <td>-0.801945</td>\n",
       "      <td>-0.661131</td>\n",
       "      <td>2.474885</td>\n",
       "      <td>0.798610</td>\n",
       "      <td>0.530191</td>\n",
       "      <td>0</td>\n",
       "    </tr>\n",
       "  </tbody>\n",
       "</table>\n",
       "</div>"
      ],
      "text/plain": [
       "   sleep_deficit  digital_fatigue  env_stress  lifestyle_balance  \\\n",
       "0       1.712387         0.759338    0.553976          -2.179185   \n",
       "1       0.795982        -0.218681    0.257733          -1.224279   \n",
       "2       0.502377        -0.801945   -0.661131           2.474885   \n",
       "\n",
       "   late_snack_effect  fatigue_env_interaction  is_metro  \n",
       "0           0.240407                 0.420655         0  \n",
       "1           0.240407                -0.056361         1  \n",
       "2           0.798610                 0.530191         0  "
      ]
     },
     "execution_count": 13,
     "metadata": {},
     "output_type": "execute_result"
    }
   ],
   "source": [
    "# I quickly check first few rows for the new columns to make sure they look fine.\n",
    "cols_to_check = ['sleep_deficit','digital_fatigue','env_stress','lifestyle_balance',\n",
    "                 'late_snack_effect','fatigue_env_interaction','is_metro']\n",
    "df[cols_to_check].head(3)\n"
   ]
  },
  {
   "cell_type": "markdown",
   "id": "6df73a85",
   "metadata": {},
   "source": [
    "Inference: New features are visible and seem logically consistent with expectations."
   ]
  }
 ],
 "metadata": {
  "kernelspec": {
   "display_name": "Python 3",
   "language": "python",
   "name": "python3"
  },
  "language_info": {
   "codemirror_mode": {
    "name": "ipython",
    "version": 3
   },
   "file_extension": ".py",
   "mimetype": "text/x-python",
   "name": "python",
   "nbconvert_exporter": "python",
   "pygments_lexer": "ipython3",
   "version": "3.13.5"
  }
 },
 "nbformat": 4,
 "nbformat_minor": 5
}
